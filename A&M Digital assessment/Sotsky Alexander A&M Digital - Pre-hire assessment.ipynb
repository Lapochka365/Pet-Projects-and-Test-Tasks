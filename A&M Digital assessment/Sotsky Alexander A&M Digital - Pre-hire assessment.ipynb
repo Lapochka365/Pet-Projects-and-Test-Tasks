{
 "cells": [
  {
   "cell_type": "markdown",
   "id": "c514846e",
   "metadata": {},
   "source": [
    "# Тестовое задание"
   ]
  },
  {
   "cell_type": "markdown",
   "id": "36a9f1c3",
   "metadata": {},
   "source": [
    "### Загрузка необходимых библиотек "
   ]
  },
  {
   "cell_type": "code",
   "execution_count": 1,
   "id": "2cb28b7a",
   "metadata": {},
   "outputs": [],
   "source": [
    "import pandas as pd\n",
    "import numpy as np\n",
    "import matplotlib.pyplot as plt"
   ]
  },
  {
   "cell_type": "markdown",
   "id": "989ed335",
   "metadata": {},
   "source": [
    "### Загрузка датасета"
   ]
  },
  {
   "cell_type": "code",
   "execution_count": 2,
   "id": "edaabbda",
   "metadata": {},
   "outputs": [
    {
     "data": {
      "text/html": [
       "<div>\n",
       "<style scoped>\n",
       "    .dataframe tbody tr th:only-of-type {\n",
       "        vertical-align: middle;\n",
       "    }\n",
       "\n",
       "    .dataframe tbody tr th {\n",
       "        vertical-align: top;\n",
       "    }\n",
       "\n",
       "    .dataframe thead th {\n",
       "        text-align: right;\n",
       "    }\n",
       "</style>\n",
       "<table border=\"1\" class=\"dataframe\">\n",
       "  <thead>\n",
       "    <tr style=\"text-align: right;\">\n",
       "      <th></th>\n",
       "      <th>Order ID</th>\n",
       "      <th>Order Date</th>\n",
       "      <th>Ship Date</th>\n",
       "      <th>Ship Mode</th>\n",
       "      <th>Customer ID</th>\n",
       "      <th>Customer Name</th>\n",
       "      <th>Segment</th>\n",
       "      <th>City</th>\n",
       "      <th>State</th>\n",
       "      <th>Country</th>\n",
       "      <th>...</th>\n",
       "      <th>Product ID</th>\n",
       "      <th>Category</th>\n",
       "      <th>Sub-Category</th>\n",
       "      <th>Product Name</th>\n",
       "      <th>Sales</th>\n",
       "      <th>Quantity</th>\n",
       "      <th>Discount</th>\n",
       "      <th>Profit</th>\n",
       "      <th>Shipping Cost</th>\n",
       "      <th>Order Priority</th>\n",
       "    </tr>\n",
       "    <tr>\n",
       "      <th>Row ID</th>\n",
       "      <th></th>\n",
       "      <th></th>\n",
       "      <th></th>\n",
       "      <th></th>\n",
       "      <th></th>\n",
       "      <th></th>\n",
       "      <th></th>\n",
       "      <th></th>\n",
       "      <th></th>\n",
       "      <th></th>\n",
       "      <th></th>\n",
       "      <th></th>\n",
       "      <th></th>\n",
       "      <th></th>\n",
       "      <th></th>\n",
       "      <th></th>\n",
       "      <th></th>\n",
       "      <th></th>\n",
       "      <th></th>\n",
       "      <th></th>\n",
       "      <th></th>\n",
       "    </tr>\n",
       "  </thead>\n",
       "  <tbody>\n",
       "    <tr>\n",
       "      <th>1</th>\n",
       "      <td>AG-2011-2040</td>\n",
       "      <td>01.01.2011</td>\n",
       "      <td>06.01.2011</td>\n",
       "      <td>Standard Class</td>\n",
       "      <td>TB-11280</td>\n",
       "      <td>Toby Braunhardt</td>\n",
       "      <td>Consumer</td>\n",
       "      <td>Constantine</td>\n",
       "      <td>Constantine</td>\n",
       "      <td>Algeria</td>\n",
       "      <td>...</td>\n",
       "      <td>OFF-TEN-10000025</td>\n",
       "      <td>Office Supplies</td>\n",
       "      <td>Storage</td>\n",
       "      <td>Tenex Lockers, Blue</td>\n",
       "      <td>408.300</td>\n",
       "      <td>2</td>\n",
       "      <td>0.0</td>\n",
       "      <td>106.140</td>\n",
       "      <td>35.46</td>\n",
       "      <td>Medium</td>\n",
       "    </tr>\n",
       "    <tr>\n",
       "      <th>2</th>\n",
       "      <td>IN-2011-47883</td>\n",
       "      <td>01.01.2011</td>\n",
       "      <td>08.01.2011</td>\n",
       "      <td>Standard Class</td>\n",
       "      <td>JH-15985</td>\n",
       "      <td>Joseph Holt</td>\n",
       "      <td>Consumer</td>\n",
       "      <td>Wagga Wagga</td>\n",
       "      <td>New South Wales</td>\n",
       "      <td>Australia</td>\n",
       "      <td>...</td>\n",
       "      <td>OFF-SU-10000618</td>\n",
       "      <td>Office Supplies</td>\n",
       "      <td>Supplies</td>\n",
       "      <td>Acme Trimmer, High Speed</td>\n",
       "      <td>120.366</td>\n",
       "      <td>3</td>\n",
       "      <td>0.1</td>\n",
       "      <td>36.036</td>\n",
       "      <td>9.72</td>\n",
       "      <td>Medium</td>\n",
       "    </tr>\n",
       "    <tr>\n",
       "      <th>3</th>\n",
       "      <td>HU-2011-1220</td>\n",
       "      <td>01.01.2011</td>\n",
       "      <td>05.01.2011</td>\n",
       "      <td>Second Class</td>\n",
       "      <td>AT-735</td>\n",
       "      <td>Annie Thurman</td>\n",
       "      <td>Consumer</td>\n",
       "      <td>Budapest</td>\n",
       "      <td>Budapest</td>\n",
       "      <td>Hungary</td>\n",
       "      <td>...</td>\n",
       "      <td>OFF-TEN-10001585</td>\n",
       "      <td>Office Supplies</td>\n",
       "      <td>Storage</td>\n",
       "      <td>Tenex Box, Single Width</td>\n",
       "      <td>66.120</td>\n",
       "      <td>4</td>\n",
       "      <td>0.0</td>\n",
       "      <td>29.640</td>\n",
       "      <td>8.17</td>\n",
       "      <td>High</td>\n",
       "    </tr>\n",
       "    <tr>\n",
       "      <th>4</th>\n",
       "      <td>IT-2011-3647632</td>\n",
       "      <td>01.01.2011</td>\n",
       "      <td>05.01.2011</td>\n",
       "      <td>Second Class</td>\n",
       "      <td>EM-14140</td>\n",
       "      <td>Eugene Moren</td>\n",
       "      <td>Home Office</td>\n",
       "      <td>Stockholm</td>\n",
       "      <td>Stockholm</td>\n",
       "      <td>Sweden</td>\n",
       "      <td>...</td>\n",
       "      <td>OFF-PA-10001492</td>\n",
       "      <td>Office Supplies</td>\n",
       "      <td>Paper</td>\n",
       "      <td>Enermax Note Cards, Premium</td>\n",
       "      <td>44.865</td>\n",
       "      <td>3</td>\n",
       "      <td>0.5</td>\n",
       "      <td>-26.055</td>\n",
       "      <td>4.82</td>\n",
       "      <td>High</td>\n",
       "    </tr>\n",
       "    <tr>\n",
       "      <th>5</th>\n",
       "      <td>IN-2011-47883</td>\n",
       "      <td>01.01.2011</td>\n",
       "      <td>08.01.2011</td>\n",
       "      <td>Standard Class</td>\n",
       "      <td>JH-15985</td>\n",
       "      <td>Joseph Holt</td>\n",
       "      <td>Consumer</td>\n",
       "      <td>Wagga Wagga</td>\n",
       "      <td>New South Wales</td>\n",
       "      <td>Australia</td>\n",
       "      <td>...</td>\n",
       "      <td>FUR-FU-10003447</td>\n",
       "      <td>Furniture</td>\n",
       "      <td>Furnishings</td>\n",
       "      <td>Eldon Light Bulb, Duo Pack</td>\n",
       "      <td>113.670</td>\n",
       "      <td>5</td>\n",
       "      <td>0.1</td>\n",
       "      <td>37.770</td>\n",
       "      <td>4.70</td>\n",
       "      <td>Medium</td>\n",
       "    </tr>\n",
       "  </tbody>\n",
       "</table>\n",
       "<p>5 rows × 23 columns</p>\n",
       "</div>"
      ],
      "text/plain": [
       "               Order ID  Order Date   Ship Date       Ship Mode Customer ID  \\\n",
       "Row ID                                                                        \n",
       "1          AG-2011-2040  01.01.2011  06.01.2011  Standard Class    TB-11280   \n",
       "2         IN-2011-47883  01.01.2011  08.01.2011  Standard Class    JH-15985   \n",
       "3          HU-2011-1220  01.01.2011  05.01.2011    Second Class      AT-735   \n",
       "4       IT-2011-3647632  01.01.2011  05.01.2011    Second Class    EM-14140   \n",
       "5         IN-2011-47883  01.01.2011  08.01.2011  Standard Class    JH-15985   \n",
       "\n",
       "          Customer Name      Segment         City            State    Country  \\\n",
       "Row ID                                                                          \n",
       "1       Toby Braunhardt     Consumer  Constantine      Constantine    Algeria   \n",
       "2           Joseph Holt     Consumer  Wagga Wagga  New South Wales  Australia   \n",
       "3         Annie Thurman     Consumer     Budapest         Budapest    Hungary   \n",
       "4          Eugene Moren  Home Office    Stockholm        Stockholm     Sweden   \n",
       "5           Joseph Holt     Consumer  Wagga Wagga  New South Wales  Australia   \n",
       "\n",
       "        ...        Product ID         Category Sub-Category  \\\n",
       "Row ID  ...                                                   \n",
       "1       ...  OFF-TEN-10000025  Office Supplies      Storage   \n",
       "2       ...   OFF-SU-10000618  Office Supplies     Supplies   \n",
       "3       ...  OFF-TEN-10001585  Office Supplies      Storage   \n",
       "4       ...   OFF-PA-10001492  Office Supplies        Paper   \n",
       "5       ...   FUR-FU-10003447        Furniture  Furnishings   \n",
       "\n",
       "                       Product Name    Sales Quantity Discount   Profit  \\\n",
       "Row ID                                                                    \n",
       "1               Tenex Lockers, Blue  408.300        2      0.0  106.140   \n",
       "2          Acme Trimmer, High Speed  120.366        3      0.1   36.036   \n",
       "3           Tenex Box, Single Width   66.120        4      0.0   29.640   \n",
       "4       Enermax Note Cards, Premium   44.865        3      0.5  -26.055   \n",
       "5        Eldon Light Bulb, Duo Pack  113.670        5      0.1   37.770   \n",
       "\n",
       "        Shipping Cost  Order Priority  \n",
       "Row ID                                 \n",
       "1               35.46          Medium  \n",
       "2                9.72          Medium  \n",
       "3                8.17            High  \n",
       "4                4.82            High  \n",
       "5                4.70          Medium  \n",
       "\n",
       "[5 rows x 23 columns]"
      ]
     },
     "execution_count": 2,
     "metadata": {},
     "output_type": "execute_result"
    }
   ],
   "source": [
    "df = pd.read_csv('superstore2011-2014.csv', sep=';', index_col=0)\n",
    "df.head(5)"
   ]
  },
  {
   "cell_type": "markdown",
   "id": "23a1cd8d",
   "metadata": {},
   "source": [
    "### Выполнение тестового задания "
   ]
  },
  {
   "cell_type": "markdown",
   "id": "1bb36b2a",
   "metadata": {},
   "source": [
    "###### 1. Третий город по наибольшей прибыли за весь период"
   ]
  },
  {
   "cell_type": "code",
   "execution_count": 3,
   "id": "dada18b3",
   "metadata": {},
   "outputs": [
    {
     "data": {
      "text/html": [
       "<div>\n",
       "<style scoped>\n",
       "    .dataframe tbody tr th:only-of-type {\n",
       "        vertical-align: middle;\n",
       "    }\n",
       "\n",
       "    .dataframe tbody tr th {\n",
       "        vertical-align: top;\n",
       "    }\n",
       "\n",
       "    .dataframe thead th {\n",
       "        text-align: right;\n",
       "    }\n",
       "</style>\n",
       "<table border=\"1\" class=\"dataframe\">\n",
       "  <thead>\n",
       "    <tr style=\"text-align: right;\">\n",
       "      <th></th>\n",
       "      <th>Profit</th>\n",
       "    </tr>\n",
       "    <tr>\n",
       "      <th>City</th>\n",
       "      <th></th>\n",
       "    </tr>\n",
       "  </thead>\n",
       "  <tbody>\n",
       "    <tr>\n",
       "      <th>New York City</th>\n",
       "      <td>61713.7563</td>\n",
       "    </tr>\n",
       "    <tr>\n",
       "      <th>Los Angeles</th>\n",
       "      <td>30285.3229</td>\n",
       "    </tr>\n",
       "    <tr>\n",
       "      <th>Seattle</th>\n",
       "      <td>29156.0967</td>\n",
       "    </tr>\n",
       "  </tbody>\n",
       "</table>\n",
       "</div>"
      ],
      "text/plain": [
       "                   Profit\n",
       "City                     \n",
       "New York City  61713.7563\n",
       "Los Angeles    30285.3229\n",
       "Seattle        29156.0967"
      ]
     },
     "execution_count": 3,
     "metadata": {},
     "output_type": "execute_result"
    }
   ],
   "source": [
    "# группировка датасета по городу, после чего суммирование столбца, иллюстрирущего прибыль \n",
    "grouped_cities = df.groupby('City')['Profit'].sum()\n",
    "# сортировка полученных городов с прибылью по убыванию\n",
    "pd.DataFrame(grouped_cities.sort_values(ascending=False).head(3))"
   ]
  },
  {
   "cell_type": "markdown",
   "id": "522bf1f1",
   "metadata": {},
   "source": [
    "###### 2. Город в России с наименьшей прибылью за весь период "
   ]
  },
  {
   "cell_type": "code",
   "execution_count": 4,
   "id": "b49d0237",
   "metadata": {},
   "outputs": [
    {
     "data": {
      "text/html": [
       "<div>\n",
       "<style scoped>\n",
       "    .dataframe tbody tr th:only-of-type {\n",
       "        vertical-align: middle;\n",
       "    }\n",
       "\n",
       "    .dataframe tbody tr th {\n",
       "        vertical-align: top;\n",
       "    }\n",
       "\n",
       "    .dataframe thead th {\n",
       "        text-align: right;\n",
       "    }\n",
       "</style>\n",
       "<table border=\"1\" class=\"dataframe\">\n",
       "  <thead>\n",
       "    <tr style=\"text-align: right;\">\n",
       "      <th></th>\n",
       "      <th>Sales</th>\n",
       "    </tr>\n",
       "    <tr>\n",
       "      <th>City</th>\n",
       "      <th></th>\n",
       "    </tr>\n",
       "  </thead>\n",
       "  <tbody>\n",
       "    <tr>\n",
       "      <th>Obninsk</th>\n",
       "      <td>10.56</td>\n",
       "    </tr>\n",
       "    <tr>\n",
       "      <th>Toguchin</th>\n",
       "      <td>54.18</td>\n",
       "    </tr>\n",
       "    <tr>\n",
       "      <th>Nal'chik</th>\n",
       "      <td>74.22</td>\n",
       "    </tr>\n",
       "    <tr>\n",
       "      <th>Khasavyurt</th>\n",
       "      <td>81.42</td>\n",
       "    </tr>\n",
       "    <tr>\n",
       "      <th>Birobidzhan</th>\n",
       "      <td>244.08</td>\n",
       "    </tr>\n",
       "  </tbody>\n",
       "</table>\n",
       "</div>"
      ],
      "text/plain": [
       "              Sales\n",
       "City               \n",
       "Obninsk       10.56\n",
       "Toguchin      54.18\n",
       "Nal'chik      74.22\n",
       "Khasavyurt    81.42\n",
       "Birobidzhan  244.08"
      ]
     },
     "execution_count": 4,
     "metadata": {},
     "output_type": "execute_result"
    }
   ],
   "source": [
    "# сортировка датасета так, чтобы остались только позиции со страной \"Россия\"\n",
    "russia_cities = df.loc[df['Country'] == 'Russia']\n",
    "# группировка датасета по городу в России и сортировка по продажам\n",
    "grouped_cities_russia = russia_cities.groupby('City')['Sales'].sum()\n",
    "pd.DataFrame(grouped_cities_russia.sort_values().head(5))"
   ]
  },
  {
   "cell_type": "markdown",
   "id": "9d5cf1ad",
   "metadata": {},
   "source": [
    "###### 3. Товар с наибольшей прибылью в 2011 году "
   ]
  },
  {
   "cell_type": "code",
   "execution_count": 5,
   "id": "647ad164",
   "metadata": {},
   "outputs": [
    {
     "data": {
      "text/html": [
       "<div>\n",
       "<style scoped>\n",
       "    .dataframe tbody tr th:only-of-type {\n",
       "        vertical-align: middle;\n",
       "    }\n",
       "\n",
       "    .dataframe tbody tr th {\n",
       "        vertical-align: top;\n",
       "    }\n",
       "\n",
       "    .dataframe thead th {\n",
       "        text-align: right;\n",
       "    }\n",
       "</style>\n",
       "<table border=\"1\" class=\"dataframe\">\n",
       "  <thead>\n",
       "    <tr style=\"text-align: right;\">\n",
       "      <th></th>\n",
       "      <th>Profit</th>\n",
       "    </tr>\n",
       "    <tr>\n",
       "      <th>Product Name</th>\n",
       "      <th></th>\n",
       "    </tr>\n",
       "  </thead>\n",
       "  <tbody>\n",
       "    <tr>\n",
       "      <th>Ibico EPK-21 Electric Binding System</th>\n",
       "      <td>4630.4755</td>\n",
       "    </tr>\n",
       "    <tr>\n",
       "      <th>Cisco Smart Phone, with Caller ID</th>\n",
       "      <td>4066.8580</td>\n",
       "    </tr>\n",
       "    <tr>\n",
       "      <th>Nokia Smart Phone, Cordless</th>\n",
       "      <td>3880.1850</td>\n",
       "    </tr>\n",
       "    <tr>\n",
       "      <th>Samsung Smart Phone, VoIP</th>\n",
       "      <td>3414.3100</td>\n",
       "    </tr>\n",
       "    <tr>\n",
       "      <th>Office Star Executive Leather Armchair, Black</th>\n",
       "      <td>3192.4488</td>\n",
       "    </tr>\n",
       "  </tbody>\n",
       "</table>\n",
       "</div>"
      ],
      "text/plain": [
       "                                                  Profit\n",
       "Product Name                                            \n",
       "Ibico EPK-21 Electric Binding System           4630.4755\n",
       "Cisco Smart Phone, with Caller ID              4066.8580\n",
       "Nokia Smart Phone, Cordless                    3880.1850\n",
       "Samsung Smart Phone, VoIP                      3414.3100\n",
       "Office Star Executive Leather Armchair, Black  3192.4488"
      ]
     },
     "execution_count": 5,
     "metadata": {},
     "output_type": "execute_result"
    }
   ],
   "source": [
    "# конвертация даты заказа в удобоваримый формат\n",
    "df['Order Date'] = pd.to_datetime(df['Order Date'])\n",
    "# сортировка по дате заказа (2011 год)\n",
    "df_2011 = df.loc[df['Order Date'].dt.year == 2011]\n",
    "# группировка датасета по названию товара и сортировка по прибыли\n",
    "pd.DataFrame(df_2011.groupby('Product Name')['Profit'].sum().sort_values(ascending=False).head(5))"
   ]
  },
  {
   "cell_type": "markdown",
   "id": "74e74ece",
   "metadata": {},
   "source": [
    "###### 4. Год с наименьшим количеством заказов в категории \"Furniture\" в Калифорнии"
   ]
  },
  {
   "cell_type": "code",
   "execution_count": 6,
   "id": "189c9616",
   "metadata": {},
   "outputs": [
    {
     "data": {
      "text/html": [
       "<div>\n",
       "<style scoped>\n",
       "    .dataframe tbody tr th:only-of-type {\n",
       "        vertical-align: middle;\n",
       "    }\n",
       "\n",
       "    .dataframe tbody tr th {\n",
       "        vertical-align: top;\n",
       "    }\n",
       "\n",
       "    .dataframe thead th {\n",
       "        text-align: right;\n",
       "    }\n",
       "</style>\n",
       "<table border=\"1\" class=\"dataframe\">\n",
       "  <thead>\n",
       "    <tr style=\"text-align: right;\">\n",
       "      <th></th>\n",
       "      <th>Order ID</th>\n",
       "    </tr>\n",
       "    <tr>\n",
       "      <th>Year</th>\n",
       "      <th></th>\n",
       "    </tr>\n",
       "  </thead>\n",
       "  <tbody>\n",
       "    <tr>\n",
       "      <th>2012</th>\n",
       "      <td>75</td>\n",
       "    </tr>\n",
       "    <tr>\n",
       "      <th>2011</th>\n",
       "      <td>80</td>\n",
       "    </tr>\n",
       "    <tr>\n",
       "      <th>2013</th>\n",
       "      <td>98</td>\n",
       "    </tr>\n",
       "    <tr>\n",
       "      <th>2014</th>\n",
       "      <td>120</td>\n",
       "    </tr>\n",
       "  </tbody>\n",
       "</table>\n",
       "</div>"
      ],
      "text/plain": [
       "      Order ID\n",
       "Year          \n",
       "2012        75\n",
       "2011        80\n",
       "2013        98\n",
       "2014       120"
      ]
     },
     "execution_count": 6,
     "metadata": {},
     "output_type": "execute_result"
    }
   ],
   "source": [
    "# сортировка по штату Калифорния\n",
    "df_california = df.loc[df['State'] == 'California']\n",
    "# удаление иных категорий, кроме 'Furniture' из сортированного датасета\n",
    "df_california = df_california.drop(df_california[df_california['Category'] != 'Furniture'].index)\n",
    "# создание столбца с указанием года заказа\n",
    "df_california['Year'] = df_california['Order Date'].dt.year\n",
    "# группировка по году, подсчет количества уникальных заказов и итоговая сортировка по заказам\n",
    "pd.DataFrame(df_california.groupby('Year')['Order ID'].nunique().sort_values())"
   ]
  },
  {
   "cell_type": "markdown",
   "id": "829d54a9",
   "metadata": {},
   "source": [
    "###### 5. Категория товаров в Техасе с положительной прибылью за весь период "
   ]
  },
  {
   "cell_type": "code",
   "execution_count": 7,
   "id": "4202eaaa",
   "metadata": {},
   "outputs": [
    {
     "data": {
      "text/html": [
       "<div>\n",
       "<style scoped>\n",
       "    .dataframe tbody tr th:only-of-type {\n",
       "        vertical-align: middle;\n",
       "    }\n",
       "\n",
       "    .dataframe tbody tr th {\n",
       "        vertical-align: top;\n",
       "    }\n",
       "\n",
       "    .dataframe thead th {\n",
       "        text-align: right;\n",
       "    }\n",
       "</style>\n",
       "<table border=\"1\" class=\"dataframe\">\n",
       "  <thead>\n",
       "    <tr style=\"text-align: right;\">\n",
       "      <th></th>\n",
       "      <th>Profit</th>\n",
       "    </tr>\n",
       "    <tr>\n",
       "      <th>Category</th>\n",
       "      <th></th>\n",
       "    </tr>\n",
       "  </thead>\n",
       "  <tbody>\n",
       "    <tr>\n",
       "      <th>Technology</th>\n",
       "      <td>3291.0252</td>\n",
       "    </tr>\n",
       "    <tr>\n",
       "      <th>Furniture</th>\n",
       "      <td>-10432.4223</td>\n",
       "    </tr>\n",
       "    <tr>\n",
       "      <th>Office Supplies</th>\n",
       "      <td>-17765.8676</td>\n",
       "    </tr>\n",
       "  </tbody>\n",
       "</table>\n",
       "</div>"
      ],
      "text/plain": [
       "                     Profit\n",
       "Category                   \n",
       "Technology        3291.0252\n",
       "Furniture       -10432.4223\n",
       "Office Supplies -17765.8676"
      ]
     },
     "execution_count": 7,
     "metadata": {},
     "output_type": "execute_result"
    }
   ],
   "source": [
    "# сортировка по штату Техас\n",
    "df_texas = df.loc[df['State'] == 'Texas']\n",
    "# группировка по категории товара и подсчет суммы прибыли по категориям, итоговая сортировка по прибыли\n",
    "pd.DataFrame(df_texas.groupby('Category')['Profit'].sum().sort_values(ascending=False))"
   ]
  },
  {
   "cell_type": "markdown",
   "id": "5e86f02d",
   "metadata": {},
   "source": [
    "###### 6. Тренд количества проданных товаров Xerox в 2012 году"
   ]
  },
  {
   "cell_type": "code",
   "execution_count": 8,
   "id": "5502d3fb",
   "metadata": {
    "scrolled": false
   },
   "outputs": [
    {
     "data": {
      "image/png": "[encoded data removed]",
      "text/plain": [
       "<Figure size 720x432 with 1 Axes>"
      ]
     },
     "metadata": {
      "needs_background": "light"
     },
     "output_type": "display_data"
    }
   ],
   "source": [
    "# сортировка по дате заказа (2012 год)\n",
    "df_2012 = df.loc[df['Order Date'].dt.year == 2012]\n",
    "# поиск товаров Xerox\n",
    "df_xerox = df_2012.loc[df['Product Name'].str.contains('Xerox')].copy()\n",
    "# создание столбца с месяцем\n",
    "df_xerox['Month'] = df_xerox['Order Date'].dt.month\n",
    "# построение графика тренда количества проданных товаров по месяцу\n",
    "plt.figure(figsize=(10,6))\n",
    "plt.plot(np.arange(1, 13, 1), pd.DataFrame(df_xerox.groupby('Month')['Quantity'].sum()))\n",
    "plt.xticks(ticks=np.arange(1, 13, 1))\n",
    "plt.grid(alpha=0.2)\n",
    "plt.title('Тренд количества проданных товаров Xerox в 2012 году по месяцам')\n",
    "plt.show()"
   ]
  },
  {
   "cell_type": "markdown",
   "id": "257b1956",
   "metadata": {},
   "source": [
    "###### 7. Часть покупателей, сделавших более одного заказа в 2011 году "
   ]
  },
  {
   "cell_type": "code",
   "execution_count": 9,
   "id": "d121d174",
   "metadata": {},
   "outputs": [
    {
     "name": "stdout",
     "output_type": "stream",
     "text": [
      "Доля покупателей, сделавших более одного заказа, равна: 0.873\n"
     ]
    }
   ],
   "source": [
    "# сортировка по году\n",
    "df_customers = df.loc[df['Order Date'].dt.year == 2011]\n",
    "# подсчет количества заказов у каждого покупателя\n",
    "df_total_orders = pd.DataFrame(df_customers.groupby('Customer ID')['Order ID'].count())\n",
    "print('Доля покупателей, сделавших более одного заказа, равна:', \n",
    "      round(len(df_total_orders.loc[df_total_orders['Order ID'] > 1]) / \n",
    "            df_customers['Customer ID'].nunique(), 3))"
   ]
  },
  {
   "cell_type": "markdown",
   "id": "6c0ad8cb",
   "metadata": {},
   "source": [
    "###### 8. Доля \"хороших\" покупателей "
   ]
  },
  {
   "cell_type": "markdown",
   "id": "87bd8b64",
   "metadata": {},
   "source": [
    "_Доля \"хороших\" покупателей из года в год_"
   ]
  },
  {
   "cell_type": "code",
   "execution_count": 10,
   "id": "e6e10796",
   "metadata": {},
   "outputs": [],
   "source": [
    "# копирование оригинального датасета и добавление столбца с годом\n",
    "df_orders_years = df.copy()\n",
    "df_orders_years['Year'] = df_orders_years['Order Date'].dt.year\n",
    "# подсчет доли \"хороших\" покупателей в 2011 году\n",
    "df_orders_2011 = df_orders_years.loc[df_orders_years['Year'] == 2011]\n",
    "df_orders_2011 = pd.DataFrame(df_orders_2011.groupby('Customer ID')['Order ID'].count())\n",
    "fraction_2011 = len(df_orders_2011.loc[df_orders_2011['Order ID'] > \n",
    "                                       df_orders_2011['Order ID'].mean()]) / len(df_orders_2011)"
   ]
  },
  {
   "cell_type": "code",
   "execution_count": 11,
   "id": "0285629f",
   "metadata": {},
   "outputs": [],
   "source": [
    "# подсчет доли \"хороших\" покупателей в 2012 году\n",
    "df_orders_2012 = df_orders_years.loc[df_orders_years['Year'] == 2012]\n",
    "df_orders_2012 = pd.DataFrame(df_orders_2012.groupby('Customer ID')['Order ID'].count())\n",
    "fraction_2012 = len(df_orders_2012.loc[df_orders_2012['Order ID'] > \n",
    "                                       df_orders_2012['Order ID'].mean()]) / len(df_orders_2012)"
   ]
  },
  {
   "cell_type": "code",
   "execution_count": 12,
   "id": "500e7cbb",
   "metadata": {},
   "outputs": [],
   "source": [
    "# подсчет доли \"хороших\" покупателей в 2013 году\n",
    "df_orders_2013 = df_orders_years.loc[df_orders_years['Year'] == 2013]\n",
    "df_orders_2013 = pd.DataFrame(df_orders_2013.groupby('Customer ID')['Order ID'].count())\n",
    "fraction_2013 = len(df_orders_2013.loc[df_orders_2013['Order ID'] > \n",
    "                                       df_orders_2013['Order ID'].mean()]) / len(df_orders_2013)"
   ]
  },
  {
   "cell_type": "code",
   "execution_count": 13,
   "id": "b6d59108",
   "metadata": {},
   "outputs": [],
   "source": [
    "# подсчет доли \"хороших\" покупателей в 2014 году\n",
    "df_orders_2014 = df_orders_years.loc[df_orders_years['Year'] == 2014]\n",
    "df_orders_2014 = pd.DataFrame(df_orders_2014.groupby('Customer ID')['Order ID'].count())\n",
    "fraction_2014 = len(df_orders_2014.loc[df_orders_2014['Order ID'] > \n",
    "                                       df_orders_2014['Order ID'].mean()]) / len(df_orders_2014)"
   ]
  },
  {
   "cell_type": "code",
   "execution_count": 14,
   "id": "35091e62",
   "metadata": {
    "scrolled": false
   },
   "outputs": [
    {
     "data": {
      "image/png": "[encoded data removed]",
      "text/plain": [
       "<Figure size 720x432 with 1 Axes>"
      ]
     },
     "metadata": {
      "needs_background": "light"
     },
     "output_type": "display_data"
    }
   ],
   "source": [
    "fraction_year_to_year = [fraction_2011, fraction_2012, fraction_2013, fraction_2014]\n",
    "plt.figure(figsize=(10,6))\n",
    "x = np.arange(2011, 2015, 1)\n",
    "y = fraction_year_to_year\n",
    "plt.scatter(x, y)\n",
    "\n",
    "z = np.polyfit(x, y, 1)\n",
    "p = np.poly1d(z)\n",
    "\n",
    "plt.plot(x,p(x),\"r--\")\n",
    "\n",
    "plt.xticks(np.arange(2011, 2015, 1))\n",
    "plt.grid(alpha=0.3)\n",
    "plt.title('Доля \"хороших покупателей\" из года в год')\n",
    "plt.show()"
   ]
  },
  {
   "cell_type": "markdown",
   "id": "61651307",
   "metadata": {},
   "source": [
    "_Доля \"хороших\" покупателей из квартала в квартал в 2012 году_"
   ]
  },
  {
   "cell_type": "code",
   "execution_count": 15,
   "id": "36a5a12f",
   "metadata": {},
   "outputs": [],
   "source": [
    "# используя предыдущую переменную, сортировка по 2012 году\n",
    "df_good_2012 = df_orders_years.loc[df_orders_years['Year'] == 2012].copy()\n",
    "# добавление столбца с кварталом\n",
    "df_good_2012['Quarter'] = df_good_2012['Order Date'].dt.quarter\n",
    "# подсчет доли \"хороших\" покупателей в 1 квартале\n",
    "df_good_2012_1 = df_good_2012.loc[df_good_2012['Quarter'] == 1]\n",
    "df_good_2012_1 = pd.DataFrame(df_good_2012_1.groupby('Customer ID')['Order ID'].count())\n",
    "fraction_1 = len(df_good_2012_1.loc[df_good_2012_1['Order ID'] > \n",
    "                                       df_good_2012_1['Order ID'].mean()]) / len(df_good_2012_1)"
   ]
  },
  {
   "cell_type": "code",
   "execution_count": 16,
   "id": "5f51945c",
   "metadata": {},
   "outputs": [],
   "source": [
    "# подсчет доли \"хороших\" покупателей в 2 квартале\n",
    "df_good_2012_2 = df_good_2012.loc[df_good_2012['Quarter'] == 2]\n",
    "df_good_2012_2 = pd.DataFrame(df_good_2012_2.groupby('Customer ID')['Order ID'].count())\n",
    "fraction_2 = len(df_good_2012_2.loc[df_good_2012_2['Order ID'] > \n",
    "                                       df_good_2012_2['Order ID'].mean()]) / len(df_good_2012_2)"
   ]
  },
  {
   "cell_type": "code",
   "execution_count": 17,
   "id": "ec71dde6",
   "metadata": {},
   "outputs": [],
   "source": [
    "# подсчет доли \"хороших\" покупателей в 3 квартале\n",
    "df_good_2012_3 = df_good_2012.loc[df_good_2012['Quarter'] == 3]\n",
    "df_good_2012_3 = pd.DataFrame(df_good_2012_3.groupby('Customer ID')['Order ID'].count())\n",
    "fraction_3 = len(df_good_2012_3.loc[df_good_2012_3['Order ID'] > \n",
    "                                       df_good_2012_3['Order ID'].mean()]) / len(df_good_2012_3)"
   ]
  },
  {
   "cell_type": "code",
   "execution_count": 18,
   "id": "9760cbec",
   "metadata": {},
   "outputs": [],
   "source": [
    "# подсчет доли \"хороших\" покупателей в 4 квартале\n",
    "df_good_2012_4 = df_good_2012.loc[df_good_2012['Quarter'] == 4]\n",
    "df_good_2012_4 = pd.DataFrame(df_good_2012_4.groupby('Customer ID')['Order ID'].count())\n",
    "fraction_4 = len(df_good_2012_4.loc[df_good_2012_4['Order ID'] > \n",
    "                                       df_good_2012_4['Order ID'].mean()]) / len(df_good_2012_4)"
   ]
  },
  {
   "cell_type": "code",
   "execution_count": 19,
   "id": "695b8c6a",
   "metadata": {},
   "outputs": [
    {
     "data": {
      "image/png": "[encoded data removed]",
      "text/plain": [
       "<Figure size 720x432 with 1 Axes>"
      ]
     },
     "metadata": {
      "needs_background": "light"
     },
     "output_type": "display_data"
    }
   ],
   "source": [
    "fraction_quarter_to_quarter = [fraction_1, fraction_2, fraction_3, fraction_4]\n",
    "plt.figure(figsize=(10,6))\n",
    "x = np.arange(1, 5, 1)\n",
    "y = fraction_quarter_to_quarter\n",
    "plt.scatter(x, y)\n",
    "\n",
    "z = np.polyfit(x, y, 1)\n",
    "p = np.poly1d(z)\n",
    "\n",
    "plt.plot(x,p(x),\"r--\")\n",
    "\n",
    "plt.xticks(np.arange(1, 5, 1))\n",
    "plt.grid(alpha=0.3)\n",
    "plt.title('Доля \"хороших покупателей\" из квартала в квартал 2012 года')\n",
    "plt.show()"
   ]
  },
  {
   "cell_type": "markdown",
   "id": "8f9d06ca",
   "metadata": {},
   "source": [
    "###### 9. Выбросы затрат на транспортировку из Канады в ящике с усами "
   ]
  },
  {
   "cell_type": "code",
   "execution_count": 20,
   "id": "5aecbf45",
   "metadata": {},
   "outputs": [
    {
     "name": "stdout",
     "output_type": "stream",
     "text": [
      "Доля выбросов в общей выборке затрат на транспортировку из Канады: 0.132\n"
     ]
    }
   ],
   "source": [
    "# сортировка датасета по Канаде\n",
    "df_canada = df.loc[df['Country'] == 'Canada']\n",
    "# определение выборки в виде затрат на транспортировку\n",
    "df_canada_ship = df_canada['Shipping Cost']\n",
    "# подсчет первого и третьего квартилей для ящика с усами\n",
    "df_canada_ship = df_canada_ship.sort_values()\n",
    "mediana = df_canada_ship.median()\n",
    "df_q1 = df_canada_ship.loc[df_canada_ship < mediana]\n",
    "q1 = df_q1.median()\n",
    "df_q3 = df_canada_ship.loc[df_canada_ship > mediana]\n",
    "q3 = df_q3.median()\n",
    "# IQR\n",
    "iqr = q3 - q1\n",
    "# определение концов усов ящика\n",
    "first_whisker = q1 - 1.5 * iqr\n",
    "last_whisker = q3 + 1.5 * iqr\n",
    "# подсчет числа выбросов\n",
    "outliers_1 = df_canada_ship.loc[df_canada_ship < first_whisker].count()\n",
    "outliers_2 = df_canada_ship.loc[df_canada_ship > last_whisker].count()\n",
    "outliers = outliers_1 + outliers_2\n",
    "print('Доля выбросов в общей выборке затрат на транспортировку из Канады:',\n",
    "     round(outliers / len(df_canada_ship), 3))"
   ]
  },
  {
   "cell_type": "code",
   "execution_count": 21,
   "id": "d2735160",
   "metadata": {},
   "outputs": [
    {
     "data": {
      "image/png": "[encoded data removed]",
      "text/plain": [
       "<Figure size 720x432 with 1 Axes>"
      ]
     },
     "metadata": {
      "needs_background": "light"
     },
     "output_type": "display_data"
    }
   ],
   "source": [
    "# график ящика с усами с ограничением оси y в 100\n",
    "plt.figure(figsize=(10,6))\n",
    "plt.boxplot(df_canada_ship)\n",
    "plt.grid(alpha=0.3)\n",
    "plt.ylim(-1,100)\n",
    "plt.title('График ящика с усами затрат на транспортировку из Канады')\n",
    "plt.show()"
   ]
  },
  {
   "cell_type": "markdown",
   "id": "7947eea4",
   "metadata": {},
   "source": [
    "###### 10. Использование модели линейной регрессии для определения изменений в общей прибыли заказов из США"
   ]
  },
  {
   "cell_type": "code",
   "execution_count": 22,
   "id": "45e3e73a",
   "metadata": {},
   "outputs": [],
   "source": [
    "# сортировка датасета по США\n",
    "df_usa = df.loc[df['Country'] == 'United States'].copy()\n",
    "# добавление столбца с годом\n",
    "df_usa['Year'] = df['Order Date'].dt.year\n",
    "df_usa_grouped = df_usa.groupby('Year')['Profit'].sum()"
   ]
  },
  {
   "cell_type": "code",
   "execution_count": 23,
   "id": "ab4ce5ab",
   "metadata": {},
   "outputs": [],
   "source": [
    "# подсчет переменных в уравнение линейной регрессии для оценки прибыли в зависимости от года\n",
    "x = df_usa_grouped.index.to_numpy() - 2011\n",
    "y = df_usa_grouped.to_numpy()\n",
    "\n",
    "sum_x = x.sum()\n",
    "sum_y = y.sum()\n",
    "sum_x2 = sum(x ** 2)\n",
    "sum_xy = sum(x * y)\n",
    "\n",
    "b = (4 * sum_xy - sum_x * sum_y) / (4 * sum_x2 - sum_x ** 2)\n",
    "a = (sum_y - b * sum_x) / 4"
   ]
  },
  {
   "cell_type": "code",
   "execution_count": 24,
   "id": "8b3c0708",
   "metadata": {},
   "outputs": [
    {
     "name": "stdout",
     "output_type": "stream",
     "text": [
      "Уравнение линейной регрессии выглядит следующим образом: Y = 48371.51671 * (X - 2011) + 15572.38861\n"
     ]
    }
   ],
   "source": [
    "print(f'Уравнение линейной регрессии выглядит следующим образом: Y = {a} * (X - 2011) + {b}')"
   ]
  },
  {
   "cell_type": "code",
   "execution_count": 25,
   "id": "b1b0ee3e",
   "metadata": {},
   "outputs": [
    {
     "name": "stdout",
     "output_type": "stream",
     "text": [
      "Уравнение линейной регрессии выглядит следующим образом: Y = 0.095 * (X - 2011) + 0.058\n"
     ]
    }
   ],
   "source": [
    "# подсчет переменных в уравнение линейной регрессии для оценки измнения прибыли в зависимости от года\n",
    "x = df_usa_grouped.index.to_numpy() - 2011\n",
    "profits = df_usa_grouped.to_numpy()\n",
    "prev_val = profits[0]\n",
    "y = []\n",
    "for val in profits:\n",
    "    val1 = val / prev_val\n",
    "    y.append(val1)\n",
    "    prev_val = val\n",
    "y = np.array(y) - 1\n",
    "\n",
    "sum_x = x.sum()\n",
    "sum_y = y.sum()\n",
    "sum_x2 = sum(x ** 2)\n",
    "sum_xy = sum(x * y)\n",
    "\n",
    "b = (4 * sum_xy - sum_x * sum_y) / (4 * sum_x2 - sum_x ** 2)\n",
    "a = (sum_y - b * sum_x) / 4\n",
    "print(f'Уравнение линейной регрессии выглядит следующим образом: Y = {round(a, 3)} * (X - 2011) + {round(b, 3)}')"
   ]
  }
 ],
 "metadata": {
  "kernelspec": {
   "display_name": "Python 3 (ipykernel)",
   "language": "python",
   "name": "python3"
  },
  "language_info": {
   "codemirror_mode": {
    "name": "ipython",
    "version": 3
   },
   "file_extension": ".py",
   "mimetype": "text/x-python",
   "name": "python",
   "nbconvert_exporter": "python",
   "pygments_lexer": "ipython3",
   "version": "3.9.6"
  }
 },
 "nbformat": 4,
 "nbformat_minor": 5
}

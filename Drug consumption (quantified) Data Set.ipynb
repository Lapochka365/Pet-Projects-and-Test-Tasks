{
 "cells": [
  {
   "cell_type": "markdown",
   "id": "b0781084",
   "metadata": {},
   "source": [
    "## Прогнозная модель для датасета Drug consumption Data"
   ]
  },
  {
   "cell_type": "markdown",
   "id": "f9eb2c6b",
   "metadata": {},
   "source": [
    "###### Импорт необходимых библиотек "
   ]
  },
  {
   "cell_type": "code",
   "execution_count": 280,
   "id": "0b23daed",
   "metadata": {},
   "outputs": [],
   "source": [
    "import pandas as pd\n",
    "import numpy as np\n",
    "from sklearn.preprocessing import OneHotEncoder\n",
    "from sklearn.multioutput import MultiOutputClassifier, ClassifierChain\n",
    "from sklearn.ensemble import RandomForestClassifier\n",
    "from sklearn.linear_model import SGDClassifier\n",
    "from sklearn.neighbors import KNeighborsClassifier\n",
    "from sklearn.svm import SVC\n",
    "from sklearn.model_selection import cross_val_score, GridSearchCV, RandomizedSearchCV, learning_curve\n",
    "from sklearn.metrics import f1_score, make_scorer\n",
    "import matplotlib.pyplot as plt"
   ]
  },
  {
   "cell_type": "markdown",
   "id": "f4740611",
   "metadata": {},
   "source": [
    "###### Загрузка датасета "
   ]
  },
  {
   "cell_type": "code",
   "execution_count": 24,
   "id": "28ab1b01",
   "metadata": {},
   "outputs": [
    {
     "data": {
      "text/html": [
       "<div>\n",
       "<style scoped>\n",
       "    .dataframe tbody tr th:only-of-type {\n",
       "        vertical-align: middle;\n",
       "    }\n",
       "\n",
       "    .dataframe tbody tr th {\n",
       "        vertical-align: top;\n",
       "    }\n",
       "\n",
       "    .dataframe thead th {\n",
       "        text-align: right;\n",
       "    }\n",
       "</style>\n",
       "<table border=\"1\" class=\"dataframe\">\n",
       "  <thead>\n",
       "    <tr style=\"text-align: right;\">\n",
       "      <th></th>\n",
       "      <th>1</th>\n",
       "      <th>2</th>\n",
       "      <th>3</th>\n",
       "      <th>4</th>\n",
       "      <th>5</th>\n",
       "      <th>6</th>\n",
       "      <th>7</th>\n",
       "      <th>8</th>\n",
       "      <th>9</th>\n",
       "      <th>10</th>\n",
       "      <th>...</th>\n",
       "      <th>22</th>\n",
       "      <th>23</th>\n",
       "      <th>24</th>\n",
       "      <th>25</th>\n",
       "      <th>26</th>\n",
       "      <th>27</th>\n",
       "      <th>28</th>\n",
       "      <th>29</th>\n",
       "      <th>30</th>\n",
       "      <th>31</th>\n",
       "    </tr>\n",
       "    <tr>\n",
       "      <th>0</th>\n",
       "      <th></th>\n",
       "      <th></th>\n",
       "      <th></th>\n",
       "      <th></th>\n",
       "      <th></th>\n",
       "      <th></th>\n",
       "      <th></th>\n",
       "      <th></th>\n",
       "      <th></th>\n",
       "      <th></th>\n",
       "      <th></th>\n",
       "      <th></th>\n",
       "      <th></th>\n",
       "      <th></th>\n",
       "      <th></th>\n",
       "      <th></th>\n",
       "      <th></th>\n",
       "      <th></th>\n",
       "      <th></th>\n",
       "      <th></th>\n",
       "      <th></th>\n",
       "    </tr>\n",
       "  </thead>\n",
       "  <tbody>\n",
       "    <tr>\n",
       "      <th>1</th>\n",
       "      <td>0.49788</td>\n",
       "      <td>0.48246</td>\n",
       "      <td>-0.05921</td>\n",
       "      <td>0.96082</td>\n",
       "      <td>0.12600</td>\n",
       "      <td>0.31287</td>\n",
       "      <td>-0.57545</td>\n",
       "      <td>-0.58331</td>\n",
       "      <td>-0.91699</td>\n",
       "      <td>-0.00665</td>\n",
       "      <td>...</td>\n",
       "      <td>CL0</td>\n",
       "      <td>CL0</td>\n",
       "      <td>CL0</td>\n",
       "      <td>CL0</td>\n",
       "      <td>CL0</td>\n",
       "      <td>CL0</td>\n",
       "      <td>CL0</td>\n",
       "      <td>CL2</td>\n",
       "      <td>CL0</td>\n",
       "      <td>CL0</td>\n",
       "    </tr>\n",
       "    <tr>\n",
       "      <th>2</th>\n",
       "      <td>-0.07854</td>\n",
       "      <td>-0.48246</td>\n",
       "      <td>1.98437</td>\n",
       "      <td>0.96082</td>\n",
       "      <td>-0.31685</td>\n",
       "      <td>-0.67825</td>\n",
       "      <td>1.93886</td>\n",
       "      <td>1.43533</td>\n",
       "      <td>0.76096</td>\n",
       "      <td>-0.14277</td>\n",
       "      <td>...</td>\n",
       "      <td>CL4</td>\n",
       "      <td>CL0</td>\n",
       "      <td>CL2</td>\n",
       "      <td>CL0</td>\n",
       "      <td>CL2</td>\n",
       "      <td>CL3</td>\n",
       "      <td>CL0</td>\n",
       "      <td>CL4</td>\n",
       "      <td>CL0</td>\n",
       "      <td>CL0</td>\n",
       "    </tr>\n",
       "    <tr>\n",
       "      <th>3</th>\n",
       "      <td>0.49788</td>\n",
       "      <td>-0.48246</td>\n",
       "      <td>-0.05921</td>\n",
       "      <td>0.96082</td>\n",
       "      <td>-0.31685</td>\n",
       "      <td>-0.46725</td>\n",
       "      <td>0.80523</td>\n",
       "      <td>-0.84732</td>\n",
       "      <td>-1.62090</td>\n",
       "      <td>-1.01450</td>\n",
       "      <td>...</td>\n",
       "      <td>CL0</td>\n",
       "      <td>CL0</td>\n",
       "      <td>CL0</td>\n",
       "      <td>CL0</td>\n",
       "      <td>CL0</td>\n",
       "      <td>CL0</td>\n",
       "      <td>CL1</td>\n",
       "      <td>CL0</td>\n",
       "      <td>CL0</td>\n",
       "      <td>CL0</td>\n",
       "    </tr>\n",
       "    <tr>\n",
       "      <th>4</th>\n",
       "      <td>-0.95197</td>\n",
       "      <td>0.48246</td>\n",
       "      <td>1.16365</td>\n",
       "      <td>0.96082</td>\n",
       "      <td>-0.31685</td>\n",
       "      <td>-0.14882</td>\n",
       "      <td>-0.80615</td>\n",
       "      <td>-0.01928</td>\n",
       "      <td>0.59042</td>\n",
       "      <td>0.58489</td>\n",
       "      <td>...</td>\n",
       "      <td>CL0</td>\n",
       "      <td>CL0</td>\n",
       "      <td>CL2</td>\n",
       "      <td>CL0</td>\n",
       "      <td>CL0</td>\n",
       "      <td>CL0</td>\n",
       "      <td>CL0</td>\n",
       "      <td>CL2</td>\n",
       "      <td>CL0</td>\n",
       "      <td>CL0</td>\n",
       "    </tr>\n",
       "    <tr>\n",
       "      <th>5</th>\n",
       "      <td>0.49788</td>\n",
       "      <td>0.48246</td>\n",
       "      <td>1.98437</td>\n",
       "      <td>0.96082</td>\n",
       "      <td>-0.31685</td>\n",
       "      <td>0.73545</td>\n",
       "      <td>-1.63340</td>\n",
       "      <td>-0.45174</td>\n",
       "      <td>-0.30172</td>\n",
       "      <td>1.30612</td>\n",
       "      <td>...</td>\n",
       "      <td>CL1</td>\n",
       "      <td>CL0</td>\n",
       "      <td>CL0</td>\n",
       "      <td>CL1</td>\n",
       "      <td>CL0</td>\n",
       "      <td>CL0</td>\n",
       "      <td>CL2</td>\n",
       "      <td>CL2</td>\n",
       "      <td>CL0</td>\n",
       "      <td>CL0</td>\n",
       "    </tr>\n",
       "  </tbody>\n",
       "</table>\n",
       "<p>5 rows × 31 columns</p>\n",
       "</div>"
      ],
      "text/plain": [
       "        1        2        3        4        5        6        7        8   \\\n",
       "0                                                                           \n",
       "1  0.49788  0.48246 -0.05921  0.96082  0.12600  0.31287 -0.57545 -0.58331   \n",
       "2 -0.07854 -0.48246  1.98437  0.96082 -0.31685 -0.67825  1.93886  1.43533   \n",
       "3  0.49788 -0.48246 -0.05921  0.96082 -0.31685 -0.46725  0.80523 -0.84732   \n",
       "4 -0.95197  0.48246  1.16365  0.96082 -0.31685 -0.14882 -0.80615 -0.01928   \n",
       "5  0.49788  0.48246  1.98437  0.96082 -0.31685  0.73545 -1.63340 -0.45174   \n",
       "\n",
       "        9        10  ...   22   23   24   25   26   27   28   29   30   31  \n",
       "0                    ...                                                    \n",
       "1 -0.91699 -0.00665  ...  CL0  CL0  CL0  CL0  CL0  CL0  CL0  CL2  CL0  CL0  \n",
       "2  0.76096 -0.14277  ...  CL4  CL0  CL2  CL0  CL2  CL3  CL0  CL4  CL0  CL0  \n",
       "3 -1.62090 -1.01450  ...  CL0  CL0  CL0  CL0  CL0  CL0  CL1  CL0  CL0  CL0  \n",
       "4  0.59042  0.58489  ...  CL0  CL0  CL2  CL0  CL0  CL0  CL0  CL2  CL0  CL0  \n",
       "5 -0.30172  1.30612  ...  CL1  CL0  CL0  CL1  CL0  CL0  CL2  CL2  CL0  CL0  \n",
       "\n",
       "[5 rows x 31 columns]"
      ]
     },
     "execution_count": 24,
     "metadata": {},
     "output_type": "execute_result"
    }
   ],
   "source": [
    "data = pd.read_csv('drug_consumption.data', header=None, index_col=0)\n",
    "data.head()"
   ]
  },
  {
   "cell_type": "markdown",
   "id": "529c33b3",
   "metadata": {},
   "source": [
    "Датасет состоит из 12 категориальных признаков, каждый из которых представляет собой в виде обозначения вещественное число. Остальные столбцы (19 столбцов) являются целевыми переменными, то есть на основе 12 признаков итоговая модель или модели должны предсказать 19 различных классов, каждый из которых дополнительно делится на данные метки: CL0 - Never Used, CL1 - Used over a Decade Ago, CL2 - Used in Last Decade, CL3 - Used in Last Year, CL4 - Used in Last Month, CL5 - Used in Last Week, CL6 - Used in Last Day.\n",
    "\n",
    "Подробнее о признаках и целевых переменных можно узнать на странице датасета: [ссылка](https://archive.ics.uci.edu/ml/datasets/Drug+consumption+%28quantified%29)."
   ]
  },
  {
   "cell_type": "markdown",
   "id": "7e23292e",
   "metadata": {},
   "source": [
    "Таким образом, стоит задача мультиклассовой классификации, причем у каждого класса имеется больше 2ух меток (multilabel multiclass classification)."
   ]
  },
  {
   "cell_type": "markdown",
   "id": "c5651079",
   "metadata": {},
   "source": [
    "Задача будет решена в два способа: \n",
    "- в первом случае метки классов будут упразднены до двух меток, как предлагается на странице датасета, то есть задача перейдет к мультиклассовой классификации с двумя метками (multilabel classification), что будет гораздо проще; \n",
    "- во втором случае для каждого из классов будет создана своя модель, то есть задача сведется к простой мультиклассовой классификации (multiclass classification)."
   ]
  },
  {
   "cell_type": "markdown",
   "id": "2074d0a0",
   "metadata": {},
   "source": [
    "###### Анализ данных "
   ]
  },
  {
   "cell_type": "markdown",
   "id": "8c785049",
   "metadata": {},
   "source": [
    "### Способ №1 (переход к multilabel classification)"
   ]
  },
  {
   "cell_type": "markdown",
   "id": "7ce5249c",
   "metadata": {},
   "source": [
    "###### Преобразование датасета"
   ]
  },
  {
   "cell_type": "markdown",
   "id": "2915db30",
   "metadata": {},
   "source": [
    "Для начала, следует преобразовать категориальные признаки в датасете, чтобы они правильно читались моделью. Также нужно немного видоизменить сами целевые метки: сократить их до двух и перевести в формат 0 или 1."
   ]
  },
  {
   "cell_type": "code",
   "execution_count": 71,
   "id": "c6ee94d6",
   "metadata": {
    "scrolled": false
   },
   "outputs": [],
   "source": [
    "# Деление на признаки и целевые переменные\n",
    "X = data.drop(data.columns[np.arange(12, 31, 1)], axis=1)\n",
    "y = data.iloc[:, 12:31]"
   ]
  },
  {
   "cell_type": "code",
   "execution_count": 75,
   "id": "edd0aac8",
   "metadata": {},
   "outputs": [
    {
     "data": {
      "text/html": [
       "<div>\n",
       "<style scoped>\n",
       "    .dataframe tbody tr th:only-of-type {\n",
       "        vertical-align: middle;\n",
       "    }\n",
       "\n",
       "    .dataframe tbody tr th {\n",
       "        vertical-align: top;\n",
       "    }\n",
       "\n",
       "    .dataframe thead th {\n",
       "        text-align: right;\n",
       "    }\n",
       "</style>\n",
       "<table border=\"1\" class=\"dataframe\">\n",
       "  <thead>\n",
       "    <tr style=\"text-align: right;\">\n",
       "      <th></th>\n",
       "      <th>1</th>\n",
       "      <th>2</th>\n",
       "      <th>3</th>\n",
       "      <th>4</th>\n",
       "      <th>5</th>\n",
       "      <th>6</th>\n",
       "      <th>7</th>\n",
       "      <th>8</th>\n",
       "      <th>9</th>\n",
       "      <th>10</th>\n",
       "      <th>11</th>\n",
       "      <th>12</th>\n",
       "    </tr>\n",
       "    <tr>\n",
       "      <th>0</th>\n",
       "      <th></th>\n",
       "      <th></th>\n",
       "      <th></th>\n",
       "      <th></th>\n",
       "      <th></th>\n",
       "      <th></th>\n",
       "      <th></th>\n",
       "      <th></th>\n",
       "      <th></th>\n",
       "      <th></th>\n",
       "      <th></th>\n",
       "      <th></th>\n",
       "    </tr>\n",
       "  </thead>\n",
       "  <tbody>\n",
       "    <tr>\n",
       "      <th>1</th>\n",
       "      <td>0.49788</td>\n",
       "      <td>0.48246</td>\n",
       "      <td>-0.05921</td>\n",
       "      <td>0.96082</td>\n",
       "      <td>0.126</td>\n",
       "      <td>0.31287</td>\n",
       "      <td>-0.57545</td>\n",
       "      <td>-0.58331</td>\n",
       "      <td>-0.91699</td>\n",
       "      <td>-0.00665</td>\n",
       "      <td>-0.21712</td>\n",
       "      <td>-1.18084</td>\n",
       "    </tr>\n",
       "    <tr>\n",
       "      <th>2</th>\n",
       "      <td>-0.07854</td>\n",
       "      <td>-0.48246</td>\n",
       "      <td>1.98437</td>\n",
       "      <td>0.96082</td>\n",
       "      <td>-0.31685</td>\n",
       "      <td>-0.67825</td>\n",
       "      <td>1.93886</td>\n",
       "      <td>1.43533</td>\n",
       "      <td>0.76096</td>\n",
       "      <td>-0.14277</td>\n",
       "      <td>-0.71126</td>\n",
       "      <td>-0.21575</td>\n",
       "    </tr>\n",
       "    <tr>\n",
       "      <th>3</th>\n",
       "      <td>0.49788</td>\n",
       "      <td>-0.48246</td>\n",
       "      <td>-0.05921</td>\n",
       "      <td>0.96082</td>\n",
       "      <td>-0.31685</td>\n",
       "      <td>-0.46725</td>\n",
       "      <td>0.80523</td>\n",
       "      <td>-0.84732</td>\n",
       "      <td>-1.6209</td>\n",
       "      <td>-1.0145</td>\n",
       "      <td>-1.37983</td>\n",
       "      <td>0.40148</td>\n",
       "    </tr>\n",
       "    <tr>\n",
       "      <th>4</th>\n",
       "      <td>-0.95197</td>\n",
       "      <td>0.48246</td>\n",
       "      <td>1.16365</td>\n",
       "      <td>0.96082</td>\n",
       "      <td>-0.31685</td>\n",
       "      <td>-0.14882</td>\n",
       "      <td>-0.80615</td>\n",
       "      <td>-0.01928</td>\n",
       "      <td>0.59042</td>\n",
       "      <td>0.58489</td>\n",
       "      <td>-1.37983</td>\n",
       "      <td>-1.18084</td>\n",
       "    </tr>\n",
       "    <tr>\n",
       "      <th>5</th>\n",
       "      <td>0.49788</td>\n",
       "      <td>0.48246</td>\n",
       "      <td>1.98437</td>\n",
       "      <td>0.96082</td>\n",
       "      <td>-0.31685</td>\n",
       "      <td>0.73545</td>\n",
       "      <td>-1.6334</td>\n",
       "      <td>-0.45174</td>\n",
       "      <td>-0.30172</td>\n",
       "      <td>1.30612</td>\n",
       "      <td>-0.21712</td>\n",
       "      <td>-0.21575</td>\n",
       "    </tr>\n",
       "  </tbody>\n",
       "</table>\n",
       "</div>"
      ],
      "text/plain": [
       "         1         2         3        4         5         6         7   \\\n",
       "0                                                                        \n",
       "1   0.49788   0.48246  -0.05921  0.96082     0.126   0.31287  -0.57545   \n",
       "2  -0.07854  -0.48246   1.98437  0.96082  -0.31685  -0.67825   1.93886   \n",
       "3   0.49788  -0.48246  -0.05921  0.96082  -0.31685  -0.46725   0.80523   \n",
       "4  -0.95197   0.48246   1.16365  0.96082  -0.31685  -0.14882  -0.80615   \n",
       "5   0.49788   0.48246   1.98437  0.96082  -0.31685   0.73545   -1.6334   \n",
       "\n",
       "         8         9         10        11        12  \n",
       "0                                                    \n",
       "1  -0.58331  -0.91699  -0.00665  -0.21712  -1.18084  \n",
       "2   1.43533   0.76096  -0.14277  -0.71126  -0.21575  \n",
       "3  -0.84732   -1.6209   -1.0145  -1.37983   0.40148  \n",
       "4  -0.01928   0.59042   0.58489  -1.37983  -1.18084  \n",
       "5  -0.45174  -0.30172   1.30612  -0.21712  -0.21575  "
      ]
     },
     "execution_count": 75,
     "metadata": {},
     "output_type": "execute_result"
    }
   ],
   "source": [
    "# форматирование вещественных чисел в признаках в string\n",
    "# для более адекватного последующего преобразования категориальных признаков\n",
    "X = X.astype(str)\n",
    "X.head()"
   ]
  },
  {
   "cell_type": "markdown",
   "id": "0caa4319",
   "metadata": {},
   "source": [
    "Не смотря на то, что признаков достаточно много, как и уникальных значений у каждого признака, в данной работе будут использоваться все признаки для обучения. Перейдем к кодированию категориальных признаков."
   ]
  },
  {
   "cell_type": "code",
   "execution_count": 82,
   "id": "6281ce6a",
   "metadata": {},
   "outputs": [
    {
     "data": {
      "text/html": [
       "<div>\n",
       "<style scoped>\n",
       "    .dataframe tbody tr th:only-of-type {\n",
       "        vertical-align: middle;\n",
       "    }\n",
       "\n",
       "    .dataframe tbody tr th {\n",
       "        vertical-align: top;\n",
       "    }\n",
       "\n",
       "    .dataframe thead th {\n",
       "        text-align: right;\n",
       "    }\n",
       "</style>\n",
       "<table border=\"1\" class=\"dataframe\">\n",
       "  <thead>\n",
       "    <tr style=\"text-align: right;\">\n",
       "      <th></th>\n",
       "      <th>0</th>\n",
       "      <th>1</th>\n",
       "      <th>2</th>\n",
       "      <th>3</th>\n",
       "      <th>4</th>\n",
       "      <th>5</th>\n",
       "      <th>6</th>\n",
       "      <th>7</th>\n",
       "      <th>8</th>\n",
       "      <th>9</th>\n",
       "      <th>...</th>\n",
       "      <th>250</th>\n",
       "      <th>251</th>\n",
       "      <th>252</th>\n",
       "      <th>253</th>\n",
       "      <th>254</th>\n",
       "      <th>255</th>\n",
       "      <th>256</th>\n",
       "      <th>257</th>\n",
       "      <th>258</th>\n",
       "      <th>259</th>\n",
       "    </tr>\n",
       "  </thead>\n",
       "  <tbody>\n",
       "    <tr>\n",
       "      <th>0</th>\n",
       "      <td>0.0</td>\n",
       "      <td>0.0</td>\n",
       "      <td>1.0</td>\n",
       "      <td>0.0</td>\n",
       "      <td>0.0</td>\n",
       "      <td>0.0</td>\n",
       "      <td>0.0</td>\n",
       "      <td>1.0</td>\n",
       "      <td>1.0</td>\n",
       "      <td>0.0</td>\n",
       "      <td>...</td>\n",
       "      <td>0.0</td>\n",
       "      <td>0.0</td>\n",
       "      <td>1.0</td>\n",
       "      <td>0.0</td>\n",
       "      <td>0.0</td>\n",
       "      <td>0.0</td>\n",
       "      <td>0.0</td>\n",
       "      <td>0.0</td>\n",
       "      <td>0.0</td>\n",
       "      <td>0.0</td>\n",
       "    </tr>\n",
       "    <tr>\n",
       "      <th>1</th>\n",
       "      <td>1.0</td>\n",
       "      <td>0.0</td>\n",
       "      <td>0.0</td>\n",
       "      <td>0.0</td>\n",
       "      <td>0.0</td>\n",
       "      <td>0.0</td>\n",
       "      <td>1.0</td>\n",
       "      <td>0.0</td>\n",
       "      <td>0.0</td>\n",
       "      <td>0.0</td>\n",
       "      <td>...</td>\n",
       "      <td>0.0</td>\n",
       "      <td>0.0</td>\n",
       "      <td>0.0</td>\n",
       "      <td>0.0</td>\n",
       "      <td>0.0</td>\n",
       "      <td>0.0</td>\n",
       "      <td>0.0</td>\n",
       "      <td>0.0</td>\n",
       "      <td>0.0</td>\n",
       "      <td>0.0</td>\n",
       "    </tr>\n",
       "    <tr>\n",
       "      <th>2</th>\n",
       "      <td>0.0</td>\n",
       "      <td>0.0</td>\n",
       "      <td>1.0</td>\n",
       "      <td>0.0</td>\n",
       "      <td>0.0</td>\n",
       "      <td>0.0</td>\n",
       "      <td>1.0</td>\n",
       "      <td>0.0</td>\n",
       "      <td>1.0</td>\n",
       "      <td>0.0</td>\n",
       "      <td>...</td>\n",
       "      <td>0.0</td>\n",
       "      <td>0.0</td>\n",
       "      <td>0.0</td>\n",
       "      <td>0.0</td>\n",
       "      <td>0.0</td>\n",
       "      <td>0.0</td>\n",
       "      <td>1.0</td>\n",
       "      <td>0.0</td>\n",
       "      <td>0.0</td>\n",
       "      <td>0.0</td>\n",
       "    </tr>\n",
       "    <tr>\n",
       "      <th>3</th>\n",
       "      <td>0.0</td>\n",
       "      <td>1.0</td>\n",
       "      <td>0.0</td>\n",
       "      <td>0.0</td>\n",
       "      <td>0.0</td>\n",
       "      <td>0.0</td>\n",
       "      <td>0.0</td>\n",
       "      <td>1.0</td>\n",
       "      <td>0.0</td>\n",
       "      <td>0.0</td>\n",
       "      <td>...</td>\n",
       "      <td>0.0</td>\n",
       "      <td>0.0</td>\n",
       "      <td>1.0</td>\n",
       "      <td>0.0</td>\n",
       "      <td>0.0</td>\n",
       "      <td>0.0</td>\n",
       "      <td>0.0</td>\n",
       "      <td>0.0</td>\n",
       "      <td>0.0</td>\n",
       "      <td>0.0</td>\n",
       "    </tr>\n",
       "    <tr>\n",
       "      <th>4</th>\n",
       "      <td>0.0</td>\n",
       "      <td>0.0</td>\n",
       "      <td>1.0</td>\n",
       "      <td>0.0</td>\n",
       "      <td>0.0</td>\n",
       "      <td>0.0</td>\n",
       "      <td>0.0</td>\n",
       "      <td>1.0</td>\n",
       "      <td>0.0</td>\n",
       "      <td>0.0</td>\n",
       "      <td>...</td>\n",
       "      <td>0.0</td>\n",
       "      <td>0.0</td>\n",
       "      <td>0.0</td>\n",
       "      <td>0.0</td>\n",
       "      <td>0.0</td>\n",
       "      <td>0.0</td>\n",
       "      <td>0.0</td>\n",
       "      <td>0.0</td>\n",
       "      <td>0.0</td>\n",
       "      <td>0.0</td>\n",
       "    </tr>\n",
       "  </tbody>\n",
       "</table>\n",
       "<p>5 rows × 260 columns</p>\n",
       "</div>"
      ],
      "text/plain": [
       "   0    1    2    3    4    5    6    7    8    9    ...  250  251  252  253  \\\n",
       "0  0.0  0.0  1.0  0.0  0.0  0.0  0.0  1.0  1.0  0.0  ...  0.0  0.0  1.0  0.0   \n",
       "1  1.0  0.0  0.0  0.0  0.0  0.0  1.0  0.0  0.0  0.0  ...  0.0  0.0  0.0  0.0   \n",
       "2  0.0  0.0  1.0  0.0  0.0  0.0  1.0  0.0  1.0  0.0  ...  0.0  0.0  0.0  0.0   \n",
       "3  0.0  1.0  0.0  0.0  0.0  0.0  0.0  1.0  0.0  0.0  ...  0.0  0.0  1.0  0.0   \n",
       "4  0.0  0.0  1.0  0.0  0.0  0.0  0.0  1.0  0.0  0.0  ...  0.0  0.0  0.0  0.0   \n",
       "\n",
       "   254  255  256  257  258  259  \n",
       "0  0.0  0.0  0.0  0.0  0.0  0.0  \n",
       "1  0.0  0.0  0.0  0.0  0.0  0.0  \n",
       "2  0.0  0.0  1.0  0.0  0.0  0.0  \n",
       "3  0.0  0.0  0.0  0.0  0.0  0.0  \n",
       "4  0.0  0.0  0.0  0.0  0.0  0.0  \n",
       "\n",
       "[5 rows x 260 columns]"
      ]
     },
     "execution_count": 82,
     "metadata": {},
     "output_type": "execute_result"
    }
   ],
   "source": [
    "enc = OneHotEncoder()\n",
    "X_categorized = enc.fit_transform(X).toarray()\n",
    "X = pd.DataFrame(X_categorized)\n",
    "X.head()"
   ]
  },
  {
   "cell_type": "markdown",
   "id": "b65fb57c",
   "metadata": {},
   "source": [
    "Признаки были надлежащим образом закодированы, далее перейдем к изменению целевых меток."
   ]
  },
  {
   "cell_type": "markdown",
   "id": "eec6367b",
   "metadata": {},
   "source": [
    "Как было предложено в описании датасета, изменение целевых меток будет произведено следующим образом:\n",
    "- Метки \"CL0 - Never Used\" и \"CL1 - Used over a Decade Ago\" можно обозначить как \"Non-user\" или 0\n",
    "- Остальные метки можно обозначить как \"User\" или 1"
   ]
  },
  {
   "cell_type": "code",
   "execution_count": 99,
   "id": "d1cb0c1a",
   "metadata": {},
   "outputs": [
    {
     "data": {
      "text/html": [
       "<div>\n",
       "<style scoped>\n",
       "    .dataframe tbody tr th:only-of-type {\n",
       "        vertical-align: middle;\n",
       "    }\n",
       "\n",
       "    .dataframe tbody tr th {\n",
       "        vertical-align: top;\n",
       "    }\n",
       "\n",
       "    .dataframe thead th {\n",
       "        text-align: right;\n",
       "    }\n",
       "</style>\n",
       "<table border=\"1\" class=\"dataframe\">\n",
       "  <thead>\n",
       "    <tr style=\"text-align: right;\">\n",
       "      <th></th>\n",
       "      <th>0</th>\n",
       "      <th>1</th>\n",
       "      <th>2</th>\n",
       "      <th>3</th>\n",
       "      <th>4</th>\n",
       "      <th>5</th>\n",
       "      <th>6</th>\n",
       "      <th>7</th>\n",
       "      <th>8</th>\n",
       "      <th>9</th>\n",
       "      <th>10</th>\n",
       "      <th>11</th>\n",
       "      <th>12</th>\n",
       "      <th>13</th>\n",
       "      <th>14</th>\n",
       "      <th>15</th>\n",
       "      <th>16</th>\n",
       "      <th>17</th>\n",
       "      <th>18</th>\n",
       "    </tr>\n",
       "  </thead>\n",
       "  <tbody>\n",
       "    <tr>\n",
       "      <th>0</th>\n",
       "      <td>1</td>\n",
       "      <td>1</td>\n",
       "      <td>0</td>\n",
       "      <td>1</td>\n",
       "      <td>1</td>\n",
       "      <td>0</td>\n",
       "      <td>1</td>\n",
       "      <td>0</td>\n",
       "      <td>0</td>\n",
       "      <td>0</td>\n",
       "      <td>0</td>\n",
       "      <td>0</td>\n",
       "      <td>0</td>\n",
       "      <td>0</td>\n",
       "      <td>0</td>\n",
       "      <td>0</td>\n",
       "      <td>1</td>\n",
       "      <td>0</td>\n",
       "      <td>0</td>\n",
       "    </tr>\n",
       "    <tr>\n",
       "      <th>1</th>\n",
       "      <td>1</td>\n",
       "      <td>1</td>\n",
       "      <td>1</td>\n",
       "      <td>0</td>\n",
       "      <td>1</td>\n",
       "      <td>1</td>\n",
       "      <td>1</td>\n",
       "      <td>1</td>\n",
       "      <td>0</td>\n",
       "      <td>1</td>\n",
       "      <td>0</td>\n",
       "      <td>1</td>\n",
       "      <td>0</td>\n",
       "      <td>1</td>\n",
       "      <td>1</td>\n",
       "      <td>0</td>\n",
       "      <td>1</td>\n",
       "      <td>0</td>\n",
       "      <td>0</td>\n",
       "    </tr>\n",
       "    <tr>\n",
       "      <th>2</th>\n",
       "      <td>1</td>\n",
       "      <td>0</td>\n",
       "      <td>0</td>\n",
       "      <td>0</td>\n",
       "      <td>1</td>\n",
       "      <td>1</td>\n",
       "      <td>1</td>\n",
       "      <td>0</td>\n",
       "      <td>0</td>\n",
       "      <td>0</td>\n",
       "      <td>0</td>\n",
       "      <td>0</td>\n",
       "      <td>0</td>\n",
       "      <td>0</td>\n",
       "      <td>0</td>\n",
       "      <td>0</td>\n",
       "      <td>0</td>\n",
       "      <td>0</td>\n",
       "      <td>0</td>\n",
       "    </tr>\n",
       "    <tr>\n",
       "      <th>3</th>\n",
       "      <td>1</td>\n",
       "      <td>0</td>\n",
       "      <td>0</td>\n",
       "      <td>1</td>\n",
       "      <td>1</td>\n",
       "      <td>1</td>\n",
       "      <td>1</td>\n",
       "      <td>1</td>\n",
       "      <td>0</td>\n",
       "      <td>0</td>\n",
       "      <td>0</td>\n",
       "      <td>1</td>\n",
       "      <td>0</td>\n",
       "      <td>0</td>\n",
       "      <td>0</td>\n",
       "      <td>0</td>\n",
       "      <td>1</td>\n",
       "      <td>0</td>\n",
       "      <td>0</td>\n",
       "    </tr>\n",
       "    <tr>\n",
       "      <th>4</th>\n",
       "      <td>1</td>\n",
       "      <td>0</td>\n",
       "      <td>0</td>\n",
       "      <td>0</td>\n",
       "      <td>1</td>\n",
       "      <td>1</td>\n",
       "      <td>1</td>\n",
       "      <td>0</td>\n",
       "      <td>0</td>\n",
       "      <td>0</td>\n",
       "      <td>0</td>\n",
       "      <td>0</td>\n",
       "      <td>0</td>\n",
       "      <td>0</td>\n",
       "      <td>0</td>\n",
       "      <td>1</td>\n",
       "      <td>1</td>\n",
       "      <td>0</td>\n",
       "      <td>0</td>\n",
       "    </tr>\n",
       "  </tbody>\n",
       "</table>\n",
       "</div>"
      ],
      "text/plain": [
       "   0   1   2   3   4   5   6   7   8   9   10  11  12  13  14  15  16  17  18\n",
       "0   1   1   0   1   1   0   1   0   0   0   0   0   0   0   0   0   1   0   0\n",
       "1   1   1   1   0   1   1   1   1   0   1   0   1   0   1   1   0   1   0   0\n",
       "2   1   0   0   0   1   1   1   0   0   0   0   0   0   0   0   0   0   0   0\n",
       "3   1   0   0   1   1   1   1   1   0   0   0   1   0   0   0   0   1   0   0\n",
       "4   1   0   0   0   1   1   1   0   0   0   0   0   0   0   0   1   1   0   0"
      ]
     },
     "execution_count": 99,
     "metadata": {},
     "output_type": "execute_result"
    }
   ],
   "source": [
    "y = pd.DataFrame(np.where(np.logical_or(y == 'CL0', y == 'CL1'), 0, 1))\n",
    "y.head()"
   ]
  },
  {
   "cell_type": "markdown",
   "id": "459e997f",
   "metadata": {},
   "source": [
    "###### Обучение и валидация модели"
   ]
  },
  {
   "cell_type": "markdown",
   "id": "0230469d",
   "metadata": {},
   "source": [
    "Теперь, когда датасет готов для передачи на обучение и тест модели, можно перейти к обозначению тестируемых моделей и к стратегии кросс-валидации."
   ]
  },
  {
   "cell_type": "markdown",
   "id": "2fd2820b",
   "metadata": {},
   "source": [
    "В рамках данной работы будет использоваться библиотека sklearn, в которой для решения задач multilabel (multioutput) классификаций имеются свои собственные функции. Это _MultiOutputClassifier_ и _ClassifierChain_. Первая строит классификатор для каждой целевой метки независимо, вторая же учитывает предсказания каждого предыдущего классификатора. "
   ]
  },
  {
   "cell_type": "markdown",
   "id": "bba26f65",
   "metadata": {},
   "source": [
    "Вышеназванные функции требуют на вход классификатор, который и будет выполнять основную работу. Для начала взят случайный лес для отбора оптимальной функции, далее же будет происходить отбор различных базовых классификаторов для последующего подбора оптимальных параметров."
   ]
  },
  {
   "cell_type": "markdown",
   "id": "c5a09e6d",
   "metadata": {},
   "source": [
    "Так как для данного вида задач стандартная метрика не подходит, будет создана своя собственная. Это взвешенная F-мера, то есть учитывающая соотношение классов внутри каждой метки $y$. Помимо этого, использован дополнительный параметр _zero_division_, который будет возвращать 0 или 1 в случае, если при подсчете F-меры возникает деление на 0 (при классификации модель видела только один класс, что возможно)."
   ]
  },
  {
   "cell_type": "code",
   "execution_count": 176,
   "id": "33fff2c6",
   "metadata": {},
   "outputs": [],
   "source": [
    "scorer = make_scorer(f1_score, average='weighted', zero_division=1)"
   ]
  },
  {
   "cell_type": "markdown",
   "id": "a350432d",
   "metadata": {},
   "source": [
    "Для поиска оптимальной для задачи функции multilabel классификации сравним их результат на кросс-валидации на 5 фолдов. "
   ]
  },
  {
   "cell_type": "code",
   "execution_count": 191,
   "id": "6eebf6c9",
   "metadata": {},
   "outputs": [],
   "source": [
    "random_forest = RandomForestClassifier()\n",
    "score_moc = cross_val_score(MultiOutputClassifier(random_forest), X, y, scoring=scorer, cv=5)\n",
    "score_cc = cross_val_score(ClassifierChain(random_forest), X, y, scoring=scorer, cv=5)"
   ]
  },
  {
   "cell_type": "code",
   "execution_count": 207,
   "id": "51aaeed8",
   "metadata": {},
   "outputs": [
    {
     "data": {
      "image/png": "[encoded data removed]",
      "text/plain": [
       "<Figure size 720x432 with 1 Axes>"
      ]
     },
     "metadata": {
      "needs_background": "light"
     },
     "output_type": "display_data"
    }
   ],
   "source": [
    "x = range(1, 6)\n",
    "plt.figure(figsize=(10,6))\n",
    "plt.plot(x, score_moc, marker='o', color='darkgreen')\n",
    "plt.plot(x, score_cc, marker='o', color='red')\n",
    "plt.grid(alpha=0.3)\n",
    "plt.xlabel('Folds', fontsize=14)\n",
    "plt.ylabel('F1-score', fontsize=14)\n",
    "plt.title('Качество двух функций при каждом фолде', fontsize=14)\n",
    "plt.legend(['MultiOutputClassifier', 'ClassifierChain'], fontsize=12)\n",
    "plt.show()"
   ]
  },
  {
   "cell_type": "code",
   "execution_count": 209,
   "id": "75788683",
   "metadata": {},
   "outputs": [
    {
     "name": "stdout",
     "output_type": "stream",
     "text": [
      "Среднее значение качества у MultiOutputClassifier: 0.7185\n",
      "Среднее значение качества у ClassifierChain: 0.709\n"
     ]
    }
   ],
   "source": [
    "print(f'Среднее значение качества у MultiOutputClassifier: {round(score_moc.mean(), 4)}')\n",
    "print(f'Среднее значение качества у ClassifierChain: {round(score_cc.mean(), 4)}')"
   ]
  },
  {
   "cell_type": "markdown",
   "id": "aac120f2",
   "metadata": {},
   "source": [
    "Таким образом, не смотря на то, что на некоторых фолдах две функции получили практически идентичные метрики качества, _ClassifierChain_ показал несколько более низкие результаты, поэтому в последующем будет использоваться _MultiOutputClassifier_."
   ]
  },
  {
   "cell_type": "markdown",
   "id": "a6196d90",
   "metadata": {},
   "source": [
    "Теперь перейдем к выбору наилучшего классификатора."
   ]
  },
  {
   "cell_type": "markdown",
   "id": "0e1eefe1",
   "metadata": {},
   "source": [
    "Выбор будет происходить между распространенными классификаторами (с параметрами по умолчанию), которые зарекомендовали себя положительно: случайный лес, метод опорных векторов, классификация при помощи стохастического градиентного спуска, и K-соседей."
   ]
  },
  {
   "cell_type": "code",
   "execution_count": 230,
   "id": "902b849c",
   "metadata": {
    "scrolled": false
   },
   "outputs": [],
   "source": [
    "classifiers = [SGDClassifier(), KNeighborsClassifier(), SVC(), RandomForestClassifier()]\n",
    "scores = []\n",
    "for clf in classifiers:\n",
    "    score = cross_val_score(MultiOutputClassifier(clf), X, y, scoring=scorer, cv=5)\n",
    "    scores.append((clf, score))"
   ]
  },
  {
   "cell_type": "code",
   "execution_count": 231,
   "id": "a848e8a4",
   "metadata": {},
   "outputs": [
    {
     "data": {
      "image/png": "[encoded data removed]",
      "text/plain": [
       "<Figure size 864x576 with 1 Axes>"
      ]
     },
     "metadata": {
      "needs_background": "light"
     },
     "output_type": "display_data"
    }
   ],
   "source": [
    "plt.figure(figsize=(12,8))\n",
    "for score in scores:\n",
    "    plt.plot(x, score[1], marker='o')\n",
    "plt.xlabel('Fold', fontsize=14)\n",
    "plt.ylabel('F1-score', fontsize=14)\n",
    "plt.legend([str(score[0]) for score in scores], fontsize=12)\n",
    "plt.title('Значение метрик классификаторов на разных фолдах', fontsize=14)\n",
    "plt.grid(alpha=0.3)\n",
    "plt.show()"
   ]
  },
  {
   "cell_type": "code",
   "execution_count": 232,
   "id": "0be2e291",
   "metadata": {},
   "outputs": [
    {
     "name": "stdout",
     "output_type": "stream",
     "text": [
      "Среднее значение SGDClassifier(): 0.729\n",
      "Среднее значение KNeighborsClassifier(): 0.715\n",
      "Среднее значение SVC(): 0.7221\n",
      "Среднее значение RandomForestClassifier(): 0.7197\n"
     ]
    }
   ],
   "source": [
    "for score in scores:\n",
    "    print(f'Среднее значение {score[0]}: {round(score[1].mean(), 4)}')"
   ]
  },
  {
   "cell_type": "markdown",
   "id": "e0fcdb0c",
   "metadata": {},
   "source": [
    "Не смотря на то, что на последних фолдах лучшие значения показывают Случайный лес и метод опорных векторов, в общем более хорошее среднее значение принимает классификатор стохастического градиентного спуска. Далее можно подробнее подобрать параметры к SGD, а также посмотреть на подбор параметров у метода опорных векторов (возможно, что классификатор покажет результат получше)."
   ]
  },
  {
   "cell_type": "code",
   "execution_count": 256,
   "id": "01980fef",
   "metadata": {
    "scrolled": true
   },
   "outputs": [
    {
     "name": "stderr",
     "output_type": "stream",
     "text": [
      "c:\\users\\sasha\\appdata\\local\\programs\\python\\python39\\lib\\site-packages\\sklearn\\linear_model\\_stochastic_gradient.py:703: ConvergenceWarning: Maximum number of iteration reached before convergence. Consider increasing max_iter to improve the fit.\n",
      "  warnings.warn(\n",
      "c:\\users\\sasha\\appdata\\local\\programs\\python\\python39\\lib\\site-packages\\sklearn\\linear_model\\_stochastic_gradient.py:703: ConvergenceWarning: Maximum number of iteration reached before convergence. Consider increasing max_iter to improve the fit.\n",
      "  warnings.warn(\n",
      "c:\\users\\sasha\\appdata\\local\\programs\\python\\python39\\lib\\site-packages\\sklearn\\linear_model\\_stochastic_gradient.py:703: ConvergenceWarning: Maximum number of iteration reached before convergence. Consider increasing max_iter to improve the fit.\n",
      "  warnings.warn(\n",
      "c:\\users\\sasha\\appdata\\local\\programs\\python\\python39\\lib\\site-packages\\sklearn\\linear_model\\_stochastic_gradient.py:703: ConvergenceWarning: Maximum number of iteration reached before convergence. Consider increasing max_iter to improve the fit.\n",
      "  warnings.warn(\n",
      "c:\\users\\sasha\\appdata\\local\\programs\\python\\python39\\lib\\site-packages\\sklearn\\linear_model\\_stochastic_gradient.py:703: ConvergenceWarning: Maximum number of iteration reached before convergence. Consider increasing max_iter to improve the fit.\n",
      "  warnings.warn(\n",
      "c:\\users\\sasha\\appdata\\local\\programs\\python\\python39\\lib\\site-packages\\sklearn\\linear_model\\_stochastic_gradient.py:703: ConvergenceWarning: Maximum number of iteration reached before convergence. Consider increasing max_iter to improve the fit.\n",
      "  warnings.warn(\n",
      "c:\\users\\sasha\\appdata\\local\\programs\\python\\python39\\lib\\site-packages\\sklearn\\linear_model\\_stochastic_gradient.py:703: ConvergenceWarning: Maximum number of iteration reached before convergence. Consider increasing max_iter to improve the fit.\n",
      "  warnings.warn(\n",
      "c:\\users\\sasha\\appdata\\local\\programs\\python\\python39\\lib\\site-packages\\sklearn\\linear_model\\_stochastic_gradient.py:703: ConvergenceWarning: Maximum number of iteration reached before convergence. Consider increasing max_iter to improve the fit.\n",
      "  warnings.warn(\n",
      "c:\\users\\sasha\\appdata\\local\\programs\\python\\python39\\lib\\site-packages\\sklearn\\linear_model\\_stochastic_gradient.py:703: ConvergenceWarning: Maximum number of iteration reached before convergence. Consider increasing max_iter to improve the fit.\n",
      "  warnings.warn(\n",
      "c:\\users\\sasha\\appdata\\local\\programs\\python\\python39\\lib\\site-packages\\sklearn\\linear_model\\_stochastic_gradient.py:703: ConvergenceWarning: Maximum number of iteration reached before convergence. Consider increasing max_iter to improve the fit.\n",
      "  warnings.warn(\n",
      "c:\\users\\sasha\\appdata\\local\\programs\\python\\python39\\lib\\site-packages\\sklearn\\linear_model\\_stochastic_gradient.py:703: ConvergenceWarning: Maximum number of iteration reached before convergence. Consider increasing max_iter to improve the fit.\n",
      "  warnings.warn(\n",
      "c:\\users\\sasha\\appdata\\local\\programs\\python\\python39\\lib\\site-packages\\sklearn\\linear_model\\_stochastic_gradient.py:703: ConvergenceWarning: Maximum number of iteration reached before convergence. Consider increasing max_iter to improve the fit.\n",
      "  warnings.warn(\n",
      "c:\\users\\sasha\\appdata\\local\\programs\\python\\python39\\lib\\site-packages\\sklearn\\linear_model\\_stochastic_gradient.py:703: ConvergenceWarning: Maximum number of iteration reached before convergence. Consider increasing max_iter to improve the fit.\n",
      "  warnings.warn(\n",
      "c:\\users\\sasha\\appdata\\local\\programs\\python\\python39\\lib\\site-packages\\sklearn\\linear_model\\_stochastic_gradient.py:703: ConvergenceWarning: Maximum number of iteration reached before convergence. Consider increasing max_iter to improve the fit.\n",
      "  warnings.warn(\n",
      "c:\\users\\sasha\\appdata\\local\\programs\\python\\python39\\lib\\site-packages\\sklearn\\linear_model\\_stochastic_gradient.py:703: ConvergenceWarning: Maximum number of iteration reached before convergence. Consider increasing max_iter to improve the fit.\n",
      "  warnings.warn(\n",
      "c:\\users\\sasha\\appdata\\local\\programs\\python\\python39\\lib\\site-packages\\sklearn\\linear_model\\_stochastic_gradient.py:703: ConvergenceWarning: Maximum number of iteration reached before convergence. Consider increasing max_iter to improve the fit.\n",
      "  warnings.warn(\n",
      "c:\\users\\sasha\\appdata\\local\\programs\\python\\python39\\lib\\site-packages\\sklearn\\linear_model\\_stochastic_gradient.py:703: ConvergenceWarning: Maximum number of iteration reached before convergence. Consider increasing max_iter to improve the fit.\n",
      "  warnings.warn(\n",
      "c:\\users\\sasha\\appdata\\local\\programs\\python\\python39\\lib\\site-packages\\sklearn\\linear_model\\_stochastic_gradient.py:703: ConvergenceWarning: Maximum number of iteration reached before convergence. Consider increasing max_iter to improve the fit.\n",
      "  warnings.warn(\n",
      "c:\\users\\sasha\\appdata\\local\\programs\\python\\python39\\lib\\site-packages\\sklearn\\linear_model\\_stochastic_gradient.py:703: ConvergenceWarning: Maximum number of iteration reached before convergence. Consider increasing max_iter to improve the fit.\n",
      "  warnings.warn(\n",
      "c:\\users\\sasha\\appdata\\local\\programs\\python\\python39\\lib\\site-packages\\sklearn\\linear_model\\_stochastic_gradient.py:703: ConvergenceWarning: Maximum number of iteration reached before convergence. Consider increasing max_iter to improve the fit.\n",
      "  warnings.warn(\n",
      "c:\\users\\sasha\\appdata\\local\\programs\\python\\python39\\lib\\site-packages\\sklearn\\linear_model\\_stochastic_gradient.py:703: ConvergenceWarning: Maximum number of iteration reached before convergence. Consider increasing max_iter to improve the fit.\n",
      "  warnings.warn(\n",
      "c:\\users\\sasha\\appdata\\local\\programs\\python\\python39\\lib\\site-packages\\sklearn\\linear_model\\_stochastic_gradient.py:703: ConvergenceWarning: Maximum number of iteration reached before convergence. Consider increasing max_iter to improve the fit.\n",
      "  warnings.warn(\n",
      "c:\\users\\sasha\\appdata\\local\\programs\\python\\python39\\lib\\site-packages\\sklearn\\linear_model\\_stochastic_gradient.py:703: ConvergenceWarning: Maximum number of iteration reached before convergence. Consider increasing max_iter to improve the fit.\n",
      "  warnings.warn(\n",
      "c:\\users\\sasha\\appdata\\local\\programs\\python\\python39\\lib\\site-packages\\sklearn\\linear_model\\_stochastic_gradient.py:703: ConvergenceWarning: Maximum number of iteration reached before convergence. Consider increasing max_iter to improve the fit.\n",
      "  warnings.warn(\n",
      "c:\\users\\sasha\\appdata\\local\\programs\\python\\python39\\lib\\site-packages\\sklearn\\linear_model\\_stochastic_gradient.py:703: ConvergenceWarning: Maximum number of iteration reached before convergence. Consider increasing max_iter to improve the fit.\n",
      "  warnings.warn(\n",
      "c:\\users\\sasha\\appdata\\local\\programs\\python\\python39\\lib\\site-packages\\sklearn\\linear_model\\_stochastic_gradient.py:703: ConvergenceWarning: Maximum number of iteration reached before convergence. Consider increasing max_iter to improve the fit.\n",
      "  warnings.warn(\n",
      "c:\\users\\sasha\\appdata\\local\\programs\\python\\python39\\lib\\site-packages\\sklearn\\linear_model\\_stochastic_gradient.py:703: ConvergenceWarning: Maximum number of iteration reached before convergence. Consider increasing max_iter to improve the fit.\n",
      "  warnings.warn(\n",
      "c:\\users\\sasha\\appdata\\local\\programs\\python\\python39\\lib\\site-packages\\sklearn\\linear_model\\_stochastic_gradient.py:703: ConvergenceWarning: Maximum number of iteration reached before convergence. Consider increasing max_iter to improve the fit.\n",
      "  warnings.warn(\n",
      "c:\\users\\sasha\\appdata\\local\\programs\\python\\python39\\lib\\site-packages\\sklearn\\linear_model\\_stochastic_gradient.py:703: ConvergenceWarning: Maximum number of iteration reached before convergence. Consider increasing max_iter to improve the fit.\n",
      "  warnings.warn(\n",
      "c:\\users\\sasha\\appdata\\local\\programs\\python\\python39\\lib\\site-packages\\sklearn\\linear_model\\_stochastic_gradient.py:703: ConvergenceWarning: Maximum number of iteration reached before convergence. Consider increasing max_iter to improve the fit.\n",
      "  warnings.warn(\n",
      "c:\\users\\sasha\\appdata\\local\\programs\\python\\python39\\lib\\site-packages\\sklearn\\linear_model\\_stochastic_gradient.py:703: ConvergenceWarning: Maximum number of iteration reached before convergence. Consider increasing max_iter to improve the fit.\n",
      "  warnings.warn(\n",
      "c:\\users\\sasha\\appdata\\local\\programs\\python\\python39\\lib\\site-packages\\sklearn\\linear_model\\_stochastic_gradient.py:703: ConvergenceWarning: Maximum number of iteration reached before convergence. Consider increasing max_iter to improve the fit.\n",
      "  warnings.warn(\n"
     ]
    },
    {
     "name": "stderr",
     "output_type": "stream",
     "text": [
      "c:\\users\\sasha\\appdata\\local\\programs\\python\\python39\\lib\\site-packages\\sklearn\\linear_model\\_stochastic_gradient.py:703: ConvergenceWarning: Maximum number of iteration reached before convergence. Consider increasing max_iter to improve the fit.\n",
      "  warnings.warn(\n",
      "c:\\users\\sasha\\appdata\\local\\programs\\python\\python39\\lib\\site-packages\\sklearn\\linear_model\\_stochastic_gradient.py:703: ConvergenceWarning: Maximum number of iteration reached before convergence. Consider increasing max_iter to improve the fit.\n",
      "  warnings.warn(\n",
      "c:\\users\\sasha\\appdata\\local\\programs\\python\\python39\\lib\\site-packages\\sklearn\\linear_model\\_stochastic_gradient.py:703: ConvergenceWarning: Maximum number of iteration reached before convergence. Consider increasing max_iter to improve the fit.\n",
      "  warnings.warn(\n",
      "c:\\users\\sasha\\appdata\\local\\programs\\python\\python39\\lib\\site-packages\\sklearn\\linear_model\\_stochastic_gradient.py:703: ConvergenceWarning: Maximum number of iteration reached before convergence. Consider increasing max_iter to improve the fit.\n",
      "  warnings.warn(\n",
      "c:\\users\\sasha\\appdata\\local\\programs\\python\\python39\\lib\\site-packages\\sklearn\\linear_model\\_stochastic_gradient.py:703: ConvergenceWarning: Maximum number of iteration reached before convergence. Consider increasing max_iter to improve the fit.\n",
      "  warnings.warn(\n",
      "c:\\users\\sasha\\appdata\\local\\programs\\python\\python39\\lib\\site-packages\\sklearn\\linear_model\\_stochastic_gradient.py:703: ConvergenceWarning: Maximum number of iteration reached before convergence. Consider increasing max_iter to improve the fit.\n",
      "  warnings.warn(\n",
      "c:\\users\\sasha\\appdata\\local\\programs\\python\\python39\\lib\\site-packages\\sklearn\\linear_model\\_stochastic_gradient.py:703: ConvergenceWarning: Maximum number of iteration reached before convergence. Consider increasing max_iter to improve the fit.\n",
      "  warnings.warn(\n",
      "c:\\users\\sasha\\appdata\\local\\programs\\python\\python39\\lib\\site-packages\\sklearn\\linear_model\\_stochastic_gradient.py:703: ConvergenceWarning: Maximum number of iteration reached before convergence. Consider increasing max_iter to improve the fit.\n",
      "  warnings.warn(\n",
      "c:\\users\\sasha\\appdata\\local\\programs\\python\\python39\\lib\\site-packages\\sklearn\\linear_model\\_stochastic_gradient.py:703: ConvergenceWarning: Maximum number of iteration reached before convergence. Consider increasing max_iter to improve the fit.\n",
      "  warnings.warn(\n",
      "c:\\users\\sasha\\appdata\\local\\programs\\python\\python39\\lib\\site-packages\\sklearn\\linear_model\\_stochastic_gradient.py:703: ConvergenceWarning: Maximum number of iteration reached before convergence. Consider increasing max_iter to improve the fit.\n",
      "  warnings.warn(\n",
      "c:\\users\\sasha\\appdata\\local\\programs\\python\\python39\\lib\\site-packages\\sklearn\\linear_model\\_stochastic_gradient.py:703: ConvergenceWarning: Maximum number of iteration reached before convergence. Consider increasing max_iter to improve the fit.\n",
      "  warnings.warn(\n",
      "c:\\users\\sasha\\appdata\\local\\programs\\python\\python39\\lib\\site-packages\\sklearn\\linear_model\\_stochastic_gradient.py:703: ConvergenceWarning: Maximum number of iteration reached before convergence. Consider increasing max_iter to improve the fit.\n",
      "  warnings.warn(\n",
      "c:\\users\\sasha\\appdata\\local\\programs\\python\\python39\\lib\\site-packages\\sklearn\\linear_model\\_stochastic_gradient.py:703: ConvergenceWarning: Maximum number of iteration reached before convergence. Consider increasing max_iter to improve the fit.\n",
      "  warnings.warn(\n"
     ]
    },
    {
     "data": {
      "text/plain": [
       "RandomizedSearchCV(cv=5,\n",
       "                   estimator=MultiOutputClassifier(estimator=SGDClassifier()),\n",
       "                   param_distributions={'estimator__alpha': [0.0001,\n",
       "                                                             0.0006000000000000001,\n",
       "                                                             0.0011],\n",
       "                                        'estimator__class_weight': [None,\n",
       "                                                                    'balanced'],\n",
       "                                        'estimator__loss': ['hinge',\n",
       "                                                            'squared_hinge'],\n",
       "                                        'estimator__penalty': ['l2', 'l1']},\n",
       "                   scoring=make_scorer(f1_score, average=weighted, zero_division=1))"
      ]
     },
     "execution_count": 256,
     "metadata": {},
     "output_type": "execute_result"
    }
   ],
   "source": [
    "parameters = {\n",
    "    'estimator__loss': ['hinge', 'squared_hinge'],\n",
    "    'estimator__penalty': ['l2', 'l1'],\n",
    "    'estimator__alpha': [val for val in np.arange(0.0001, 0.0012, 0.0005)],\n",
    "    'estimator__class_weight': [None, 'balanced']\n",
    "}\n",
    "clf_sgd = RandomizedSearchCV(estimator=MultiOutputClassifier(SGDClassifier()), \n",
    "                             param_distributions=parameters, scoring=scorer, cv=5)\n",
    "clf_sgd.fit(X, y)"
   ]
  },
  {
   "cell_type": "markdown",
   "id": "8601fc9f",
   "metadata": {},
   "source": [
    "Итоговые параметры после рандомизированного поиска по сетке:"
   ]
  },
  {
   "cell_type": "code",
   "execution_count": 261,
   "id": "a2639d97",
   "metadata": {},
   "outputs": [
    {
     "data": {
      "text/plain": [
       "{'estimator__penalty': 'l1',\n",
       " 'estimator__loss': 'hinge',\n",
       " 'estimator__class_weight': 'balanced',\n",
       " 'estimator__alpha': 0.0006000000000000001}"
      ]
     },
     "execution_count": 261,
     "metadata": {},
     "output_type": "execute_result"
    }
   ],
   "source": [
    "clf_sgd.best_params_"
   ]
  },
  {
   "cell_type": "code",
   "execution_count": 262,
   "id": "51eb06bb",
   "metadata": {
    "scrolled": true
   },
   "outputs": [
    {
     "name": "stdout",
     "output_type": "stream",
     "text": [
      "Итоговое качество после нахождения наилучших параметров: 0.7472\n"
     ]
    }
   ],
   "source": [
    "MultiOutputClassifier(estimator=SGDClassifier(penalty='l1', class_weight='balanced', alpha=0.0006))\n",
    "print(f'Итоговое качество после нахождения наилучших параметров: {round(clf_sgd.best_score_, 4)}')"
   ]
  },
  {
   "cell_type": "markdown",
   "id": "226aec0f",
   "metadata": {},
   "source": [
    "Таким образом, удалось немного, но увеличить качество модели на валидации."
   ]
  },
  {
   "cell_type": "code",
   "execution_count": 275,
   "id": "1575df1b",
   "metadata": {
    "scrolled": true
   },
   "outputs": [
    {
     "data": {
      "text/plain": [
       "GridSearchCV(cv=5,\n",
       "             estimator=MultiOutputClassifier(estimator=SVC(class_weight='balanced')),\n",
       "             param_grid={'estimator__C': [0.1, 0.5, 1.0, 2.0, 5.0, 10.0]},\n",
       "             scoring=make_scorer(f1_score, average=weighted, zero_division=1))"
      ]
     },
     "execution_count": 275,
     "metadata": {},
     "output_type": "execute_result"
    }
   ],
   "source": [
    "parameters = {\n",
    "    'estimator__C': [0.1, 0.5, 1.0, 2.0, 5.0, 10.0]\n",
    "}\n",
    "clf_svc = GridSearchCV(estimator=MultiOutputClassifier(SVC(class_weight='balanced')), \n",
    "                             param_grid=parameters, scoring=scorer, cv=5)\n",
    "clf_svc.fit(X, y)"
   ]
  },
  {
   "cell_type": "markdown",
   "id": "e7edc9f7",
   "metadata": {},
   "source": [
    "Итоговые параметры метода опорных векторов после поиска по сетке:"
   ]
  },
  {
   "cell_type": "code",
   "execution_count": 276,
   "id": "b9102904",
   "metadata": {},
   "outputs": [
    {
     "data": {
      "text/plain": [
       "{'estimator__C': 1.0}"
      ]
     },
     "execution_count": 276,
     "metadata": {},
     "output_type": "execute_result"
    }
   ],
   "source": [
    "clf_svc.best_params_"
   ]
  },
  {
   "cell_type": "code",
   "execution_count": 279,
   "id": "de34e956",
   "metadata": {},
   "outputs": [
    {
     "name": "stdout",
     "output_type": "stream",
     "text": [
      "Итоговое качество после нахождения наилучших параметров: 0.7646\n"
     ]
    }
   ],
   "source": [
    "print(f'Итоговое качество после нахождения наилучших параметров: {round(clf_svc.best_score_, 4)}')"
   ]
  },
  {
   "cell_type": "markdown",
   "id": "94ff1571",
   "metadata": {},
   "source": [
    "Видно, что, по сути, качество намного увеличилось за счет указания сбалансированного веса классов в параметрах SVC, параметр регуляризации C можно было использовать стандартный."
   ]
  },
  {
   "cell_type": "markdown",
   "id": "faf78a65",
   "metadata": {},
   "source": [
    "Более того, качество SVC оказалось даже лучше, чем показатель у SGD."
   ]
  },
  {
   "cell_type": "markdown",
   "id": "c79482b8",
   "metadata": {},
   "source": [
    "Можно еще раз рассмотреть два данных классификатора и то, каким образом они обучаются."
   ]
  },
  {
   "cell_type": "code",
   "execution_count": 286,
   "id": "df46f86c",
   "metadata": {
    "scrolled": true
   },
   "outputs": [
    {
     "name": "stderr",
     "output_type": "stream",
     "text": [
      "c:\\users\\sasha\\appdata\\local\\programs\\python\\python39\\lib\\site-packages\\sklearn\\linear_model\\_stochastic_gradient.py:703: ConvergenceWarning: Maximum number of iteration reached before convergence. Consider increasing max_iter to improve the fit.\n",
      "  warnings.warn(\n",
      "c:\\users\\sasha\\appdata\\local\\programs\\python\\python39\\lib\\site-packages\\sklearn\\linear_model\\_stochastic_gradient.py:703: ConvergenceWarning: Maximum number of iteration reached before convergence. Consider increasing max_iter to improve the fit.\n",
      "  warnings.warn(\n"
     ]
    }
   ],
   "source": [
    "train_sizes, train_scores, test_scores = learning_curve(\n",
    "    MultiOutputClassifier(estimator=SGDClassifier(\n",
    "        penalty='l1', class_weight='balanced', alpha=0.0006, max_iter=5000)),\n",
    "    X, y, cv=5, scoring=scorer)"
   ]
  },
  {
   "cell_type": "code",
   "execution_count": 305,
   "id": "69a06121",
   "metadata": {
    "scrolled": false
   },
   "outputs": [
    {
     "data": {
      "image/png": "[encoded data removed]",
      "text/plain": [
       "<Figure size 864x576 with 1 Axes>"
      ]
     },
     "metadata": {
      "needs_background": "light"
     },
     "output_type": "display_data"
    }
   ],
   "source": [
    "train_scores_mean = np.mean(train_scores, axis=1)\n",
    "train_scores_std = np.std(train_scores, axis=1)\n",
    "test_scores_mean = np.mean(test_scores, axis=1)\n",
    "test_scores_std = np.std(test_scores, axis=1)\n",
    "\n",
    "plt.figure(figsize=(12,8))\n",
    "plt.fill_between(train_sizes, train_scores_mean - train_scores_std, train_scores_mean + train_scores_std, \n",
    "                 alpha=0.1, color=\"r\")\n",
    "plt.plot(train_sizes, train_scores_mean, marker='o', color='r')\n",
    "plt.grid(alpha=0.3)\n",
    "plt.fill_between(train_sizes, test_scores_mean - test_scores_std, test_scores_mean + test_scores_std, \n",
    "                 alpha=0.1, color=\"b\")\n",
    "plt.plot(train_sizes, test_scores_mean, marker='o', color='darkblue')\n",
    "plt.xlabel('Training examples', fontsize=14)\n",
    "plt.ylabel('Score', fontsize=14)\n",
    "plt.legend(['Train', 'Test'], fontsize=14)\n",
    "plt.title('Learning curve of SGD', fontsize=14)\n",
    "plt.show()"
   ]
  },
  {
   "cell_type": "code",
   "execution_count": 306,
   "id": "d2394c33",
   "metadata": {},
   "outputs": [],
   "source": [
    "train_sizes, train_scores, test_scores = learning_curve(MultiOutputClassifier(SVC(\n",
    "    C=1.0, class_weight='balanced')), X, y, cv=5, scoring=scorer)"
   ]
  },
  {
   "cell_type": "code",
   "execution_count": 307,
   "id": "fc25d55b",
   "metadata": {},
   "outputs": [
    {
     "data": {
      "image/png": "[encoded data removed]",
      "text/plain": [
       "<Figure size 864x576 with 1 Axes>"
      ]
     },
     "metadata": {
      "needs_background": "light"
     },
     "output_type": "display_data"
    }
   ],
   "source": [
    "train_scores_mean = np.mean(train_scores, axis=1)\n",
    "train_scores_std = np.std(train_scores, axis=1)\n",
    "test_scores_mean = np.mean(test_scores, axis=1)\n",
    "test_scores_std = np.std(test_scores, axis=1)\n",
    "\n",
    "plt.figure(figsize=(12,8))\n",
    "plt.fill_between(train_sizes, train_scores_mean - train_scores_std, train_scores_mean + train_scores_std, \n",
    "                 alpha=0.1, color=\"r\")\n",
    "plt.plot(train_sizes, train_scores_mean, marker='o', color='r')\n",
    "plt.grid(alpha=0.3)\n",
    "plt.fill_between(train_sizes, test_scores_mean - test_scores_std, test_scores_mean + test_scores_std, \n",
    "                 alpha=0.1, color=\"b\")\n",
    "plt.plot(train_sizes, test_scores_mean, marker='o', color='darkblue')\n",
    "plt.xlabel('Training examples', fontsize=14)\n",
    "plt.ylabel('Score', fontsize=14)\n",
    "plt.legend(['Train', 'Test'], fontsize=14)\n",
    "plt.title('Learning curve of SVM', fontsize=14)\n",
    "plt.show()"
   ]
  },
  {
   "cell_type": "markdown",
   "id": "4b82c033",
   "metadata": {},
   "source": [
    "В итоге, удалось реализовать задачу multiclass multilabel классификации при помощи ее сведения к multilabel binary классификации. Наилучшие результаты метрики качества, подогнанной под задачу, показали метод опорных векторов и стохастический градиент."
   ]
  },
  {
   "cell_type": "markdown",
   "id": "da79071a",
   "metadata": {},
   "source": [
    "### Способ №2 (переход к множеству multiclass classification моделей)"
   ]
  },
  {
   "cell_type": "code",
   "execution_count": null,
   "id": "3232ae0e",
   "metadata": {},
   "outputs": [],
   "source": []
  }
 ],
 "metadata": {
  "kernelspec": {
   "display_name": "Python 3 (ipykernel)",
   "language": "python",
   "name": "python3"
  },
  "language_info": {
   "codemirror_mode": {
    "name": "ipython",
    "version": 3
   },
   "file_extension": ".py",
   "mimetype": "text/x-python",
   "name": "python",
   "nbconvert_exporter": "python",
   "pygments_lexer": "ipython3",
   "version": "3.9.6"
  }
 },
 "nbformat": 4,
 "nbformat_minor": 5
}
